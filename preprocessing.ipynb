{
 "cells": [
  {
   "cell_type": "code",
   "execution_count": 171,
   "metadata": {},
   "outputs": [],
   "source": [
    "import pandas as pd\n",
    "pd.set_option('display.max_colwidth', None)"
   ]
  },
  {
   "cell_type": "code",
   "execution_count": 172,
   "metadata": {},
   "outputs": [],
   "source": [
    "df = pd.read_csv('data/tweets_vader.csv', usecols=['Cleaned_Text','Vader_Sentiment_Type'])"
   ]
  },
  {
   "cell_type": "code",
   "execution_count": 173,
   "metadata": {},
   "outputs": [],
   "source": [
    "df.dropna(inplace=True)"
   ]
  },
  {
   "cell_type": "code",
   "execution_count": 174,
   "metadata": {},
   "outputs": [
    {
     "data": {
      "text/plain": [
       "(19835, 2)"
      ]
     },
     "execution_count": 174,
     "metadata": {},
     "output_type": "execute_result"
    }
   ],
   "source": [
    "df.shape"
   ]
  },
  {
   "cell_type": "code",
   "execution_count": 175,
   "metadata": {},
   "outputs": [],
   "source": [
    "df['Cleaned_Text'] = df['Cleaned_Text'].str.replace('’',\"'\")"
   ]
  },
  {
   "cell_type": "code",
   "execution_count": 272,
   "metadata": {},
   "outputs": [
    {
     "data": {
      "text/html": [
       "<div>\n",
       "<style scoped>\n",
       "    .dataframe tbody tr th:only-of-type {\n",
       "        vertical-align: middle;\n",
       "    }\n",
       "\n",
       "    .dataframe tbody tr th {\n",
       "        vertical-align: top;\n",
       "    }\n",
       "\n",
       "    .dataframe thead th {\n",
       "        text-align: right;\n",
       "    }\n",
       "</style>\n",
       "<table border=\"1\" class=\"dataframe\">\n",
       "  <thead>\n",
       "    <tr style=\"text-align: right;\">\n",
       "      <th></th>\n",
       "      <th>text</th>\n",
       "      <th>label</th>\n",
       "    </tr>\n",
       "  </thead>\n",
       "  <tbody>\n",
       "    <tr>\n",
       "      <th>0</th>\n",
       "      <td>it really is not but good to know you will believe any thing someone on the with no founding if it were actually people supporting it our government would actually do something about it but it is old men with money so they get a pass</td>\n",
       "      <td>1</td>\n",
       "    </tr>\n",
       "    <tr>\n",
       "      <th>1</th>\n",
       "      <td>indeed i will let us take a teensy fraction of responsibility for some like being some people s first positive imagery of the community the mutual aid-ish and maybe a touch of relationship drama</td>\n",
       "      <td>2</td>\n",
       "    </tr>\n",
       "    <tr>\n",
       "      <th>2</th>\n",
       "      <td>actually its not not only have child drag been happening despite with support from the and but they have also taken to people saying that calling out is anti-lgbt somehow they got it in their that those are equal</td>\n",
       "      <td>1</td>\n",
       "    </tr>\n",
       "    <tr>\n",
       "      <th>3</th>\n",
       "      <td>government considering repeal of sodomy law along with unspecified to ensure ban on marriage is from court challenge</td>\n",
       "      <td>2</td>\n",
       "    </tr>\n",
       "    <tr>\n",
       "      <th>4</th>\n",
       "      <td>on a clear day you can see forever opening night at interesting premise w a clever twist great band nice nostalgic music</td>\n",
       "      <td>2</td>\n",
       "    </tr>\n",
       "    <tr>\n",
       "      <th>...</th>\n",
       "      <td>...</td>\n",
       "      <td>...</td>\n",
       "    </tr>\n",
       "    <tr>\n",
       "      <th>19995</th>\n",
       "      <td>the movie lit rally like 0 0001 % content ko wo k</td>\n",
       "      <td>2</td>\n",
       "    </tr>\n",
       "    <tr>\n",
       "      <th>19996</th>\n",
       "      <td>allies</td>\n",
       "      <td>0</td>\n",
       "    </tr>\n",
       "    <tr>\n",
       "      <th>19997</th>\n",
       "      <td>as long as are and clean and not gross then they are fine with me</td>\n",
       "      <td>2</td>\n",
       "    </tr>\n",
       "    <tr>\n",
       "      <th>19998</th>\n",
       "      <td>gop-controlled sue over lgbt-inclusive policy to get school lunch funds</td>\n",
       "      <td>0</td>\n",
       "    </tr>\n",
       "    <tr>\n",
       "      <th>19999</th>\n",
       "      <td>i used to live in san el straight to the nearest bar and they can direct you the center they were a massive help for me when i there from in 2012</td>\n",
       "      <td>2</td>\n",
       "    </tr>\n",
       "  </tbody>\n",
       "</table>\n",
       "<p>19835 rows × 2 columns</p>\n",
       "</div>"
      ],
      "text/plain": [
       "                                                                                                                                                                                                                                            text  \\\n",
       "0      it really is not but good to know you will believe any thing someone on the with no founding if it were actually people supporting it our government would actually do something about it but it is old men with money so they get a pass   \n",
       "1                                             indeed i will let us take a teensy fraction of responsibility for some like being some people s first positive imagery of the community the mutual aid-ish and maybe a touch of relationship drama   \n",
       "2                           actually its not not only have child drag been happening despite with support from the and but they have also taken to people saying that calling out is anti-lgbt somehow they got it in their that those are equal   \n",
       "3                                                                                                                           government considering repeal of sodomy law along with unspecified to ensure ban on marriage is from court challenge   \n",
       "4                                                                                                                       on a clear day you can see forever opening night at interesting premise w a clever twist great band nice nostalgic music   \n",
       "...                                                                                                                                                                                                                                          ...   \n",
       "19995                                                                                                                                                                                          the movie lit rally like 0 0001 % content ko wo k   \n",
       "19996                                                                                                                                                                                                                                     allies   \n",
       "19997                                                                                                                                                                          as long as are and clean and not gross then they are fine with me   \n",
       "19998                                                                                                                                                                    gop-controlled sue over lgbt-inclusive policy to get school lunch funds   \n",
       "19999                                                                                          i used to live in san el straight to the nearest bar and they can direct you the center they were a massive help for me when i there from in 2012   \n",
       "\n",
       "       label  \n",
       "0          1  \n",
       "1          2  \n",
       "2          1  \n",
       "3          2  \n",
       "4          2  \n",
       "...      ...  \n",
       "19995      2  \n",
       "19996      0  \n",
       "19997      2  \n",
       "19998      0  \n",
       "19999      2  \n",
       "\n",
       "[19835 rows x 2 columns]"
      ]
     },
     "execution_count": 272,
     "metadata": {},
     "output_type": "execute_result"
    }
   ],
   "source": [
    "df.rename(columns={\"Vader_Sentiment_Type\":\"sentiment\",\"Cleaned_Text\":\"text\"}, inplace=True)\n",
    "\n",
    "def redefine_label(label):\n",
    "    if label == \"NEUTRAL\":\n",
    "        return 0\n",
    "    elif label == \"NEGATIVE\":\n",
    "        return 1\n",
    "    elif label == \"POSITIVE\":\n",
    "        return 2\n",
    "\n",
    "df[\"label\"] = df[\"sentiment\"].apply(redefine_label)\n",
    "df.drop(columns=[\"sentiment\"], inplace=True)\n",
    "df"
   ]
  },
  {
   "cell_type": "code",
   "execution_count": 274,
   "metadata": {},
   "outputs": [],
   "source": [
    "from sklearn.model_selection import train_test_split\n",
    "#split the data into train and test set\n",
    "\n",
    "train,test = train_test_split(df, test_size=0.20, random_state=0)\n",
    "train,val = train_test_split(train, test_size=0.25, random_state=1)\n",
    "\n",
    "#save the data\n",
    "train.to_csv('data/bert_train.csv',index=False)\n",
    "val.to_csv('data/bert_val.csv',index=False)\n",
    "test.to_csv('data/bert_test.csv',index=False)"
   ]
  },
  {
   "cell_type": "code",
   "execution_count": 178,
   "metadata": {},
   "outputs": [
    {
     "data": {
      "text/plain": [
       "['emoji',\n",
       " 'tok2vec',\n",
       " 'tagger',\n",
       " 'parser',\n",
       " 'attribute_ruler',\n",
       " 'lemmatizer',\n",
       " 'ner']"
      ]
     },
     "execution_count": 178,
     "metadata": {},
     "output_type": "execute_result"
    }
   ],
   "source": [
    "import spacy\n",
    "\n",
    "nlp = spacy.load(\"en_core_web_sm\")\n",
    "nlp.add_pipe(\"emoji\", first=True)\n",
    "nlp.pipe_names"
   ]
  },
  {
   "cell_type": "code",
   "execution_count": 179,
   "metadata": {},
   "outputs": [
    {
     "name": "stderr",
     "output_type": "stream",
     "text": [
      "100%|██████████| 19835/19835 [00:50<00:00, 393.25it/s]\n"
     ]
    }
   ],
   "source": [
    "from tqdm import tqdm\n",
    "\n",
    "docs = []\n",
    "for doc in tqdm(nlp.pipe(df.text), total=len(df)):\n",
    "    docs.append(doc)"
   ]
  },
  {
   "cell_type": "code",
   "execution_count": 180,
   "metadata": {},
   "outputs": [],
   "source": [
    "def extract_tokens_plus_meta(doc:spacy.tokens.doc.Doc):\n",
    "    \"\"\"Extract tokens and metadata from individual spaCy doc.\"\"\"\n",
    "    return [\n",
    "        (i.text, i.i, i.lemma_, i.ent_type_, i.tag_, \n",
    "         i.dep_, i.pos_, i.is_stop, i.is_alpha, \n",
    "         i.is_digit, i.is_punct, i._.is_emoji) for i in doc\n",
    "    ]"
   ]
  },
  {
   "cell_type": "code",
   "execution_count": 181,
   "metadata": {},
   "outputs": [],
   "source": [
    "def tidy_tokens(docs):\n",
    "    \"\"\"Extract tokens and metadata from list of spaCy docs.\"\"\"\n",
    "    \n",
    "    cols = [\n",
    "        \"doc_id\", \"token\", \"token_order\", \"lemma\", \n",
    "        \"ent_type\", \"tag\", \"dep\", \"pos\", \"is_stop\", \n",
    "        \"is_alpha\", \"is_digit\", \"is_punct\", \"is_emoji\"\n",
    "    ]\n",
    "    \n",
    "    meta_df = []\n",
    "    for ix, doc in tqdm(enumerate(docs), total=len(docs)):\n",
    "        meta = extract_tokens_plus_meta(doc)\n",
    "        meta = pd.DataFrame(meta)\n",
    "        meta.columns = cols[1:]\n",
    "        meta = meta.assign(doc_id = ix).loc[:, cols]\n",
    "        meta_df.append(meta)\n",
    "        \n",
    "    return pd.concat(meta_df)  "
   ]
  },
  {
   "cell_type": "code",
   "execution_count": 182,
   "metadata": {},
   "outputs": [
    {
     "name": "stderr",
     "output_type": "stream",
     "text": [
      "100%|██████████| 19835/19835 [00:36<00:00, 546.45it/s]\n"
     ]
    }
   ],
   "source": [
    "tidy_docs = tidy_tokens(docs)"
   ]
  },
  {
   "cell_type": "code",
   "execution_count": 183,
   "metadata": {},
   "outputs": [],
   "source": [
    "tidy_docs = tidy_docs[tidy_docs.groupby('doc_id').doc_id.transform(len) > 3]"
   ]
  },
  {
   "cell_type": "code",
   "execution_count": 184,
   "metadata": {},
   "outputs": [
    {
     "data": {
      "text/html": [
       "<div>\n",
       "<style scoped>\n",
       "    .dataframe tbody tr th:only-of-type {\n",
       "        vertical-align: middle;\n",
       "    }\n",
       "\n",
       "    .dataframe tbody tr th {\n",
       "        vertical-align: top;\n",
       "    }\n",
       "\n",
       "    .dataframe thead th {\n",
       "        text-align: right;\n",
       "    }\n",
       "</style>\n",
       "<table border=\"1\" class=\"dataframe\">\n",
       "  <thead>\n",
       "    <tr style=\"text-align: right;\">\n",
       "      <th></th>\n",
       "      <th>doc_id</th>\n",
       "      <th>token</th>\n",
       "      <th>token_order</th>\n",
       "      <th>lemma</th>\n",
       "      <th>ent_type</th>\n",
       "      <th>tag</th>\n",
       "      <th>dep</th>\n",
       "      <th>pos</th>\n",
       "      <th>is_stop</th>\n",
       "      <th>is_alpha</th>\n",
       "      <th>is_digit</th>\n",
       "      <th>is_punct</th>\n",
       "      <th>is_emoji</th>\n",
       "    </tr>\n",
       "  </thead>\n",
       "  <tbody>\n",
       "    <tr>\n",
       "      <th>19</th>\n",
       "      <td>5</td>\n",
       "      <td>™</td>\n",
       "      <td>19</td>\n",
       "      <td>™</td>\n",
       "      <td></td>\n",
       "      <td>VB</td>\n",
       "      <td>dobj</td>\n",
       "      <td>VERB</td>\n",
       "      <td>False</td>\n",
       "      <td>False</td>\n",
       "      <td>False</td>\n",
       "      <td>False</td>\n",
       "      <td>True</td>\n",
       "    </tr>\n",
       "    <tr>\n",
       "      <th>24</th>\n",
       "      <td>16</td>\n",
       "      <td>🙄</td>\n",
       "      <td>24</td>\n",
       "      <td>🙄</td>\n",
       "      <td></td>\n",
       "      <td>NN</td>\n",
       "      <td>dobj</td>\n",
       "      <td>NOUN</td>\n",
       "      <td>False</td>\n",
       "      <td>False</td>\n",
       "      <td>False</td>\n",
       "      <td>False</td>\n",
       "      <td>True</td>\n",
       "    </tr>\n",
       "    <tr>\n",
       "      <th>13</th>\n",
       "      <td>19</td>\n",
       "      <td>✅</td>\n",
       "      <td>13</td>\n",
       "      <td>✅</td>\n",
       "      <td></td>\n",
       "      <td>_SP</td>\n",
       "      <td>dep</td>\n",
       "      <td>SPACE</td>\n",
       "      <td>False</td>\n",
       "      <td>False</td>\n",
       "      <td>False</td>\n",
       "      <td>False</td>\n",
       "      <td>True</td>\n",
       "    </tr>\n",
       "    <tr>\n",
       "      <th>0</th>\n",
       "      <td>30</td>\n",
       "      <td>💗</td>\n",
       "      <td>0</td>\n",
       "      <td>💗</td>\n",
       "      <td></td>\n",
       "      <td>NNP</td>\n",
       "      <td>npadvmod</td>\n",
       "      <td>PROPN</td>\n",
       "      <td>False</td>\n",
       "      <td>False</td>\n",
       "      <td>False</td>\n",
       "      <td>False</td>\n",
       "      <td>True</td>\n",
       "    </tr>\n",
       "    <tr>\n",
       "      <th>26</th>\n",
       "      <td>50</td>\n",
       "      <td>😢</td>\n",
       "      <td>26</td>\n",
       "      <td>😢</td>\n",
       "      <td></td>\n",
       "      <td>FW</td>\n",
       "      <td>punct</td>\n",
       "      <td>X</td>\n",
       "      <td>False</td>\n",
       "      <td>False</td>\n",
       "      <td>False</td>\n",
       "      <td>False</td>\n",
       "      <td>True</td>\n",
       "    </tr>\n",
       "    <tr>\n",
       "      <th>...</th>\n",
       "      <td>...</td>\n",
       "      <td>...</td>\n",
       "      <td>...</td>\n",
       "      <td>...</td>\n",
       "      <td>...</td>\n",
       "      <td>...</td>\n",
       "      <td>...</td>\n",
       "      <td>...</td>\n",
       "      <td>...</td>\n",
       "      <td>...</td>\n",
       "      <td>...</td>\n",
       "      <td>...</td>\n",
       "      <td>...</td>\n",
       "    </tr>\n",
       "    <tr>\n",
       "      <th>28</th>\n",
       "      <td>19818</td>\n",
       "      <td>🏳️‍🌈</td>\n",
       "      <td>28</td>\n",
       "      <td>🏳️‍🌈</td>\n",
       "      <td>ORG</td>\n",
       "      <td>_SP</td>\n",
       "      <td>dep</td>\n",
       "      <td>SPACE</td>\n",
       "      <td>False</td>\n",
       "      <td>False</td>\n",
       "      <td>False</td>\n",
       "      <td>False</td>\n",
       "      <td>True</td>\n",
       "    </tr>\n",
       "    <tr>\n",
       "      <th>29</th>\n",
       "      <td>19818</td>\n",
       "      <td>🏳️‍🌈</td>\n",
       "      <td>29</td>\n",
       "      <td>🏳️‍🌈</td>\n",
       "      <td>ORG</td>\n",
       "      <td>ADD</td>\n",
       "      <td>dep</td>\n",
       "      <td>X</td>\n",
       "      <td>False</td>\n",
       "      <td>False</td>\n",
       "      <td>False</td>\n",
       "      <td>False</td>\n",
       "      <td>True</td>\n",
       "    </tr>\n",
       "    <tr>\n",
       "      <th>30</th>\n",
       "      <td>19818</td>\n",
       "      <td>🏳️‍🌈</td>\n",
       "      <td>30</td>\n",
       "      <td>🏳️‍🌈</td>\n",
       "      <td>ORG</td>\n",
       "      <td>ADD</td>\n",
       "      <td>dep</td>\n",
       "      <td>X</td>\n",
       "      <td>False</td>\n",
       "      <td>False</td>\n",
       "      <td>False</td>\n",
       "      <td>False</td>\n",
       "      <td>True</td>\n",
       "    </tr>\n",
       "    <tr>\n",
       "      <th>19</th>\n",
       "      <td>19829</td>\n",
       "      <td>🌈</td>\n",
       "      <td>19</td>\n",
       "      <td>🌈</td>\n",
       "      <td></td>\n",
       "      <td>RB</td>\n",
       "      <td>dep</td>\n",
       "      <td>ADV</td>\n",
       "      <td>False</td>\n",
       "      <td>False</td>\n",
       "      <td>False</td>\n",
       "      <td>False</td>\n",
       "      <td>True</td>\n",
       "    </tr>\n",
       "    <tr>\n",
       "      <th>35</th>\n",
       "      <td>19829</td>\n",
       "      <td>➡️</td>\n",
       "      <td>35</td>\n",
       "      <td>➡️</td>\n",
       "      <td>ORG</td>\n",
       "      <td>VBP</td>\n",
       "      <td>conj</td>\n",
       "      <td>VERB</td>\n",
       "      <td>False</td>\n",
       "      <td>False</td>\n",
       "      <td>False</td>\n",
       "      <td>False</td>\n",
       "      <td>True</td>\n",
       "    </tr>\n",
       "  </tbody>\n",
       "</table>\n",
       "<p>5946 rows × 13 columns</p>\n",
       "</div>"
      ],
      "text/plain": [
       "    doc_id token  token_order lemma ent_type  tag       dep    pos  is_stop  \\\n",
       "19       5     ™           19     ™            VB      dobj   VERB    False   \n",
       "24      16     🙄           24     🙄            NN      dobj   NOUN    False   \n",
       "13      19     ✅           13     ✅           _SP       dep  SPACE    False   \n",
       "0       30     💗            0     💗           NNP  npadvmod  PROPN    False   \n",
       "26      50     😢           26     😢            FW     punct      X    False   \n",
       "..     ...   ...          ...   ...      ...  ...       ...    ...      ...   \n",
       "28   19818  🏳️‍🌈           28  🏳️‍🌈      ORG  _SP       dep  SPACE    False   \n",
       "29   19818  🏳️‍🌈           29  🏳️‍🌈      ORG  ADD       dep      X    False   \n",
       "30   19818  🏳️‍🌈           30  🏳️‍🌈      ORG  ADD       dep      X    False   \n",
       "19   19829     🌈           19     🌈            RB       dep    ADV    False   \n",
       "35   19829    ➡️           35    ➡️      ORG  VBP      conj   VERB    False   \n",
       "\n",
       "    is_alpha  is_digit  is_punct  is_emoji  \n",
       "19     False     False     False      True  \n",
       "24     False     False     False      True  \n",
       "13     False     False     False      True  \n",
       "0      False     False     False      True  \n",
       "26     False     False     False      True  \n",
       "..       ...       ...       ...       ...  \n",
       "28     False     False     False      True  \n",
       "29     False     False     False      True  \n",
       "30     False     False     False      True  \n",
       "19     False     False     False      True  \n",
       "35     False     False     False      True  \n",
       "\n",
       "[5946 rows x 13 columns]"
      ]
     },
     "execution_count": 184,
     "metadata": {},
     "output_type": "execute_result"
    }
   ],
   "source": [
    "tidy_docs.query(\"is_emoji == True\")"
   ]
  },
  {
   "cell_type": "code",
   "execution_count": 185,
   "metadata": {},
   "outputs": [],
   "source": [
    "emoji_list = tidy_docs.query(\"is_emoji == True\").token.unique()\n",
    "emoji_df = pd.DataFrame({'emoji':emoji_list})\n",
    "\n",
    "emoji_df.to_csv('emoji.csv')"
   ]
  },
  {
   "cell_type": "code",
   "execution_count": 186,
   "metadata": {},
   "outputs": [
    {
     "data": {
      "text/plain": [
       "DATE           3426\n",
       "ORG            3291\n",
       "CARDINAL       3184\n",
       "PERCENT         840\n",
       "PERSON          831\n",
       "GPE             693\n",
       "ORDINAL         577\n",
       "TIME            493\n",
       "NORP            308\n",
       "MONEY           262\n",
       "PRODUCT         157\n",
       "LOC             145\n",
       "QUANTITY        143\n",
       "LAW             122\n",
       "FAC              79\n",
       "EVENT            31\n",
       "WORK_OF_ART       7\n",
       "LANGUAGE          1\n",
       "Name: ent_type, dtype: int64"
      ]
     },
     "execution_count": 186,
     "metadata": {},
     "output_type": "execute_result"
    }
   ],
   "source": [
    "tidy_docs.query(\"ent_type != ''\").ent_type.value_counts()"
   ]
  },
  {
   "cell_type": "code",
   "execution_count": 267,
   "metadata": {},
   "outputs": [
    {
     "data": {
      "text/plain": [
       "(array([  0.,  50., 100., 150., 200., 250., 300., 350., 400.]),\n",
       " [Text(0.0, 0, '0'),\n",
       "  Text(50.0, 0, '50'),\n",
       "  Text(100.0, 0, '100'),\n",
       "  Text(150.0, 0, '150'),\n",
       "  Text(200.0, 0, '200'),\n",
       "  Text(250.0, 0, '250'),\n",
       "  Text(300.0, 0, '300'),\n",
       "  Text(350.0, 0, '350'),\n",
       "  Text(400.0, 0, '400')])"
      ]
     },
     "execution_count": 267,
     "metadata": {},
     "output_type": "execute_result"
    },
    {
     "data": {
      "image/png": "[encoded data removed]",
      "text/plain": [
       "<Figure size 1728x1008 with 1 Axes>"
      ]
     },
     "metadata": {
      "needs_background": "light"
     },
     "output_type": "display_data"
    }
   ],
   "source": [
    "import matplotlib.pyplot as plt \n",
    "\n",
    "tidy_docs.query(\"ent_type != '' & pos != 'SPACE' & is_stop == False & \\\n",
    "is_punct == False & is_emoji == False & is_digit == False & is_alpha == True\").lemma.value_counts().head(30).plot(kind=\"barh\", figsize=(24, 14), alpha=.7)\n",
    "plt.yticks(fontsize=20)\n",
    "plt.xticks(fontsize=20)"
   ]
  },
  {
   "cell_type": "code",
   "execution_count": 214,
   "metadata": {},
   "outputs": [],
   "source": [
    "alphanumeric_list = tidy_docs.query(\"ent_type != '' & pos != 'SPACE' & is_stop == False & \\\n",
    "is_punct == False & is_emoji == False & is_digit == False\").lemma.unique()\n",
    "alpha_list = tidy_docs.query(\"ent_type != '' & pos != 'SPACE' & is_stop == False & \\\n",
    "is_punct == False & is_emoji == False & is_digit == False & is_alpha == True\").lemma.unique()\n"
   ]
  },
  {
   "cell_type": "code",
   "execution_count": 215,
   "metadata": {},
   "outputs": [],
   "source": [
    "from transformers import BertTokenizer\n",
    "\n",
    "tokenizer = BertTokenizer.from_pretrained('bert-base-uncased', do_lower_case=True)"
   ]
  },
  {
   "cell_type": "code",
   "execution_count": 216,
   "metadata": {},
   "outputs": [],
   "source": [
    "alphanumeric_list = set(alphanumeric_list) - set(tokenizer.vocab.keys())\n",
    "alpha_list = set(alpha_list) - set(tokenizer.vocab.keys())"
   ]
  },
  {
   "cell_type": "code",
   "execution_count": 224,
   "metadata": {},
   "outputs": [],
   "source": [
    "import enchant\n",
    "\n",
    "d = enchant.Dict(\"en_US\")\n",
    "\n",
    "english_words = set()\n",
    "\n",
    "for new_token in sorted(alphanumeric_list):\n",
    "    if d.check(new_token) == True:\n",
    "        english_words.add(new_token)"
   ]
  },
  {
   "cell_type": "code",
   "execution_count": 225,
   "metadata": {},
   "outputs": [
    {
     "name": "stdout",
     "output_type": "stream",
     "text": [
      "['-4pm', '00am', '00pmemail', '00s', '100k', '100x', '10but', '10even', '10my', '10pm', '10yo', '10yr', '110k', '11am', '11am-4pm', '11k', '11yr', '12noon', '13statehood', '14bl', '14x14', '14yo', '15y', '167m', '16x16', '1850s-1950s', '1927leo', '19a', '1k', '1kick', '1not', '1pm-5pm', '1yr', '200k', '2015has', '2019nas', '2020s', '2020we', '2022a', '2022i', '2022you', '2030you', '20k', '20x20', '220k', '22k', '22yr', '24h', '24mil', '24winter', '24x7', '25k', '25x', '25yr', '26am', '26pm', '273–280', '28july22', '2b', '2by', '2ds', '2hosted', '2investigate', '2k', '2lgbtqias', '2nite', '2pm-2am', '2rd', '2slgbtq', '2thessalonians', '2yr', '30am', '30k', '30pm', '317k', '377a', '3chuds', '3dp', '3go', '3i', '3k', '3rs', '3source', '3x', '3yrs', '40ish', '40k', '40s', '470k', '4chan', '4gotten', '4lye', '4or', '4pmpst', '500k', '50a', '50p', '50x', '5k', '5lazytime', '5mil', '5pmmore', '5tags', '5tips', '5towards', '5yo', '5yr', '65mcmlxv', '66k', '680k', '6p-2a', '6pm-12pm', '6r00mer', '6room', '6yr', '76er', '77k', '7brew', '7pm-12am', '7s', '80s-90', '80sshe', '8bsnbwd', '8doe', '8k', '8×', '90k', '99c', '99p', '9f', '9lastly', '9pm', 'abang2', 'abortion2', 'aluminiumh71', 'anak2', 'artsy7', 'assistant2️⃣', 'bagus²', 'bathroom6', 'bbcitvc4', 'budak2', 'c2e2', 'canceled3', 'causes🫂', 'conservative2', 'control4', 'course4', 'covid-19', 'crowdfunder2', 'cruelty9', 'd0', 'd1ude', 'd9', 'dak2', 'demand5', 'dying‼️', 'ea2010', 'engmodushpmg00000004', 'eq10', 'equality3', 'equality7', 'extremadura30', 'fair1', 'fcking-22', 'fe3h', 'ff14', 'g0byern0', 'g305', 'good9', 'grades9', 'gta6', 'human6', 'hx78ew', 'ia-04', 'immigrants11', 'inb4', 'industry9', 'interests3', 'introvert8', 'i´m', 'j6', 'jnr2', 'kf-21', 'kindleian1', 'kyie18', 'l3sbians', 'laws2', 'lgbt2', 'lgbtabc123xyz', 'lgbtq2', 'lgbtqia2', 'lgbt÷', 'look\\U0001f979', 'lv87', 'm4l', 'marriage4', 'mskingbean89', 'murder⁉️', 'myanmar29', 'nbc6news', 'nemoresome1', 'not6', 'novosti9', 'org²', 'over—27', 'p3', 'p5', 'past2', 'photographer2', 'please14yo', 'ppls1', 'pre-2022', 'proship36', 'proshpped0anti', 'puak2', 'rated18', 'rdr2', 'recap4h', 'resinh13', 'rockitv5', 'sama2', 'school4', 'seeing3', 'slur3', 'sozinho-', 'spearb7', 'stonewalluk2022', 'su1c1de', 'tlou2', 'too2', 'utc-520', 'v3', 'values12', 'virgin5', 'vol2', 'want🧍🏻\\u200d', 'won‼️', 'ww2', 'xb3', 'y0ong1', '~1000', '¹⁰⁰lgbt', 'ções2022', '̇yoruz', 'محرم1444', 'सूडान', 'सोमालिया', 'ออฟกัน', '•new', '\\u2066\\u2069', '━', '┻', '╱', '⚧', '⟶', '⠀', '️', '️furrie', '️go', '️i', '️well', '️zero', '🏻\\u200d', '🏾‼️', '🤍head', '🤎\\U0001faf6🏾', '🥲', '\\U0001f979', '\\U0001f979\\U0001faf6🏾', '\\U0001fae3', '\\U0001faf6🏻', '\\U0001faf6🏻\\U0001faf6🏻']\n"
     ]
    }
   ],
   "source": [
    "print(sorted(alphanumeric_list-english_words-alpha_list))"
   ]
  },
  {
   "cell_type": "code",
   "execution_count": 264,
   "metadata": {},
   "outputs": [
    {
     "name": "stdout",
     "output_type": "stream",
     "text": [
      "['2lgbtqias', '2nite', 'abbasi', 'ade', 'aku', 'atonia', 'awwww', 'bagus', 'benda', 'biden', 'bradbury', 'cee', 'chakra', 'charle', 'cosa', 'covid-19', 'cupcakke', 'elysia', 'etcnon', 'fair1', 'familia', 'fil', 'furrie', 'gc', 'georgiafreedom', 'goldwater', 'gop', 'grat', 'grt', 'gta', 'hak', 'ig', 'inb4', 'kadhi', 'kalo', 'karlsberg', 'koda', 'kulah', 'l3sbians', 'latifi', 'lgbt2', 'lgbtabc123xyz', 'lgbtq', 'lgbtq2', 'lgbtqia2', 'lgbt÷', 'looney', 'mau', 'nep', 'peele', 'ppls', 'proship', 'proshpped0', 'rated18', 'rogan', 'rostow', 'rp', 'sama', 'su1c1de', 'tabeta', 'titanbi', 'vag', 'vinny', 'visto', 'wickham', 'ww2', 'yagi', 'zahra', '新人vtuber']\n"
     ]
    }
   ],
   "source": [
    "vocab_list = sorted(alpha_list-english_words)\n",
    "words_to_add = ['2nite','2lgbtqias','bagus','covid-19','fair1','furrie','gta','inb4','ppls','proship','proshpped0','rated18','sama','su1c1de','l3sbians','lgbt2','lgbtabc123xyz','lgbtq2','lgbtqia2','lgbt÷','ww2']\n",
    "for word in words_to_add:\n",
    "    vocab_list.append(word)\n",
    "print(sorted(vocab_list))"
   ]
  },
  {
   "cell_type": "code",
   "execution_count": 275,
   "metadata": {},
   "outputs": [],
   "source": [
    "non_english_list_df = pd.DataFrame({'word':sorted(vocab_list)})\n",
    "\n",
    "non_english_list_df.to_csv('vocab.csv')"
   ]
  },
  {
   "cell_type": "code",
   "execution_count": null,
   "metadata": {},
   "outputs": [],
   "source": []
  }
 ],
 "metadata": {
  "kernelspec": {
   "display_name": "pytorch",
   "language": "python",
   "name": "pytorch"
  },
  "language_info": {
   "codemirror_mode": {
    "name": "ipython",
    "version": 3
   },
   "file_extension": ".py",
   "mimetype": "text/x-python",
   "name": "python",
   "nbconvert_exporter": "python",
   "pygments_lexer": "ipython3",
   "version": "3.10.4"
  },
  "orig_nbformat": 4
 },
 "nbformat": 4,
 "nbformat_minor": 2
}
