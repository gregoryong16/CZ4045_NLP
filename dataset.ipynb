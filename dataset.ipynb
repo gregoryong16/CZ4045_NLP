{
 "cells": [
  {
   "cell_type": "code",
   "execution_count": 1,
   "metadata": {},
   "outputs": [
    {
     "data": {
      "text/html": [
       "<div>\n",
       "<style scoped>\n",
       "    .dataframe tbody tr th:only-of-type {\n",
       "        vertical-align: middle;\n",
       "    }\n",
       "\n",
       "    .dataframe tbody tr th {\n",
       "        vertical-align: top;\n",
       "    }\n",
       "\n",
       "    .dataframe thead th {\n",
       "        text-align: right;\n",
       "    }\n",
       "</style>\n",
       "<table border=\"1\" class=\"dataframe\">\n",
       "  <thead>\n",
       "    <tr style=\"text-align: right;\">\n",
       "      <th></th>\n",
       "      <th>Cleaned_Text</th>\n",
       "      <th>blob</th>\n",
       "      <th>Blob_Sentiment_Type</th>\n",
       "    </tr>\n",
       "  </thead>\n",
       "  <tbody>\n",
       "    <tr>\n",
       "      <th>0</th>\n",
       "      <td>r_h_d__ danielthehuman1 strewthqueen willisaos...</td>\n",
       "      <td>0.208333</td>\n",
       "      <td>POSITIVE</td>\n",
       "    </tr>\n",
       "    <tr>\n",
       "      <th>1</th>\n",
       "      <td>idsharman indeed. i'll let us take a teensy fr...</td>\n",
       "      <td>0.238636</td>\n",
       "      <td>POSITIVE</td>\n",
       "    </tr>\n",
       "    <tr>\n",
       "      <th>2</th>\n",
       "      <td>klucy239 mc3mc336241251 gop actually its not, ...</td>\n",
       "      <td>-0.033333</td>\n",
       "      <td>NEGATIVE</td>\n",
       "    </tr>\n",
       "    <tr>\n",
       "      <th>3</th>\n",
       "      <td>singapore: government considering repeal of so...</td>\n",
       "      <td>0.000000</td>\n",
       "      <td>NEUTRAL</td>\n",
       "    </tr>\n",
       "    <tr>\n",
       "      <th>4</th>\n",
       "      <td>\"on a clear day you can see forever\" musical o...</td>\n",
       "      <td>0.260417</td>\n",
       "      <td>POSITIVE</td>\n",
       "    </tr>\n",
       "  </tbody>\n",
       "</table>\n",
       "</div>"
      ],
      "text/plain": [
       "                                        Cleaned_Text      blob  \\\n",
       "0  r_h_d__ danielthehuman1 strewthqueen willisaos...  0.208333   \n",
       "1  idsharman indeed. i'll let us take a teensy fr...  0.238636   \n",
       "2  klucy239 mc3mc336241251 gop actually its not, ... -0.033333   \n",
       "3  singapore: government considering repeal of so...  0.000000   \n",
       "4  \"on a clear day you can see forever\" musical o...  0.260417   \n",
       "\n",
       "  Blob_Sentiment_Type  \n",
       "0            POSITIVE  \n",
       "1            POSITIVE  \n",
       "2            NEGATIVE  \n",
       "3             NEUTRAL  \n",
       "4            POSITIVE  "
      ]
     },
     "execution_count": 1,
     "metadata": {},
     "output_type": "execute_result"
    }
   ],
   "source": [
    "import pandas as pd\n",
    "\n",
    "base_url = './data/'\n",
    "\n",
    "df = pd.read_csv(base_url+\"text-query-tweets-sentiment-analysis-textblob.csv\")\n",
    "df.head(5)"
   ]
  },
  {
   "cell_type": "code",
   "execution_count": 11,
   "metadata": {},
   "outputs": [],
   "source": [
    "# df = df.loc[df[\"Sentiment_Type\"]!=\"NEUTRAL\"]\n",
    "# df.Sentiment_Type.value_counts()"
   ]
  },
  {
   "cell_type": "code",
   "execution_count": 2,
   "metadata": {},
   "outputs": [],
   "source": [
    "df.rename(columns={\"Blob_Sentiment_Type\":\"sentiment\",\"Cleaned_Text\":\"text\"}, inplace=True)\n",
    "df.drop(columns=[\"blob\"], inplace=True)\n",
    "\n",
    "# def redefine_label(label):\n",
    "#     if label == \"POSITIVE\":\n",
    "#         return 0\n",
    "#     else:\n",
    "#         return 1\n",
    "\n",
    "# df[\"label\"] = df[\"label\"].apply(redefine_label)\n",
    "# df"
   ]
  },
  {
   "cell_type": "code",
   "execution_count": 13,
   "metadata": {},
   "outputs": [],
   "source": [
    "# df.to_csv(base_url+'final.csv',index=False)"
   ]
  },
  {
   "cell_type": "code",
   "execution_count": 3,
   "metadata": {},
   "outputs": [],
   "source": [
    "from sklearn.model_selection import train_test_split\n",
    "#split the data into train and test set\n",
    "train,test = train_test_split(df, test_size=0.20, random_state=0)\n",
    "\n",
    "#save the data\n",
    "train.to_csv(base_url+'train.csv',index=False)\n",
    "test.to_csv(base_url+'test.csv',index=False)"
   ]
  },
  {
   "cell_type": "code",
   "execution_count": null,
   "metadata": {},
   "outputs": [],
   "source": []
  }
 ],
 "metadata": {
  "kernelspec": {
   "display_name": "Python 3.10.4 ('pytorch')",
   "language": "python",
   "name": "python3"
  },
  "language_info": {
   "codemirror_mode": {
    "name": "ipython",
    "version": 3
   },
   "file_extension": ".py",
   "mimetype": "text/x-python",
   "name": "python",
   "nbconvert_exporter": "python",
   "pygments_lexer": "ipython3",
   "version": "3.10.4"
  },
  "orig_nbformat": 4,
  "vscode": {
   "interpreter": {
    "hash": "61d7d72412218704c5ba1799d65c7a83b08e24a9ca7847de9a479f6f426633e7"
   }
  }
 },
 "nbformat": 4,
 "nbformat_minor": 2
}
