{
 "cells": [
  {
   "cell_type": "code",
   "execution_count": 1,
   "metadata": {},
   "outputs": [
    {
     "data": {
      "text/plain": [
       "[PhysicalDevice(name='/physical_device:GPU:0', device_type='GPU')]"
      ]
     },
     "execution_count": 1,
     "metadata": {},
     "output_type": "execute_result"
    }
   ],
   "source": [
    "import random\n",
    "import tensorflow as tf\n",
    "import numpy as np\n",
    "\n",
    "tf.keras.utils.set_random_seed(17)  # sets seeds for base-python, numpy and tf\n",
    "\n",
    "tf.config.list_physical_devices('GPU')"
   ]
  },
  {
   "cell_type": "markdown",
   "metadata": {},
   "source": [
    "# PREPROCESSING"
   ]
  },
  {
   "cell_type": "code",
   "execution_count": 2,
   "metadata": {},
   "outputs": [],
   "source": [
    "import pandas as pd\n",
    "df = pd.read_csv(\"data/tweets.csv\")"
   ]
  },
  {
   "cell_type": "code",
   "execution_count": 3,
   "metadata": {},
   "outputs": [
    {
     "data": {
      "text/html": [
       "<div>\n",
       "<style scoped>\n",
       "    .dataframe tbody tr th:only-of-type {\n",
       "        vertical-align: middle;\n",
       "    }\n",
       "\n",
       "    .dataframe tbody tr th {\n",
       "        vertical-align: top;\n",
       "    }\n",
       "\n",
       "    .dataframe thead th {\n",
       "        text-align: right;\n",
       "    }\n",
       "</style>\n",
       "<table border=\"1\" class=\"dataframe\">\n",
       "  <thead>\n",
       "    <tr style=\"text-align: right;\">\n",
       "      <th></th>\n",
       "      <th>Text</th>\n",
       "      <th>Cleaned_Text</th>\n",
       "      <th>English_Only_Cleaned_Text</th>\n",
       "      <th>vader</th>\n",
       "      <th>compound</th>\n",
       "      <th>Vader_Sentiment_Type</th>\n",
       "    </tr>\n",
       "  </thead>\n",
       "  <tbody>\n",
       "    <tr>\n",
       "      <th>0</th>\n",
       "      <td>@R_H_D__ @DanielTheHuman1 @StrewthQueen @Willi...</td>\n",
       "      <td>it really is not  but good to know you wil...</td>\n",
       "      <td>it really is not but good to know you will bel...</td>\n",
       "      <td>{'neg': 0.119, 'neu': 0.809, 'pos': 0.072, 'co...</td>\n",
       "      <td>-0.3516</td>\n",
       "      <td>NEGATIVE</td>\n",
       "    </tr>\n",
       "    <tr>\n",
       "      <th>1</th>\n",
       "      <td>@idsharman Indeed. I'll let us take a teensy f...</td>\n",
       "      <td>indeed  i will let us take a teensy fraction ...</td>\n",
       "      <td>indeed i will let us take a teensy fraction of...</td>\n",
       "      <td>{'neg': 0.0, 'neu': 0.844, 'pos': 0.156, 'comp...</td>\n",
       "      <td>0.7269</td>\n",
       "      <td>POSITIVE</td>\n",
       "    </tr>\n",
       "    <tr>\n",
       "      <th>2</th>\n",
       "      <td>@klucy239 @Mc3Mc336241251 @GOP actually its no...</td>\n",
       "      <td>actually its not  not only have child drag ...</td>\n",
       "      <td>actually its not not only have child drag been...</td>\n",
       "      <td>{'neg': 0.063, 'neu': 0.937, 'pos': 0.0, 'comp...</td>\n",
       "      <td>-0.2684</td>\n",
       "      <td>NEGATIVE</td>\n",
       "    </tr>\n",
       "    <tr>\n",
       "      <th>3</th>\n",
       "      <td>#SINGAPORE: Government considering repeal of s...</td>\n",
       "      <td>government considering repeal of sodomy law ...</td>\n",
       "      <td>government considering repeal of sodomy law al...</td>\n",
       "      <td>{'neg': 0.136, 'neu': 0.606, 'pos': 0.258, 'co...</td>\n",
       "      <td>0.2960</td>\n",
       "      <td>POSITIVE</td>\n",
       "    </tr>\n",
       "    <tr>\n",
       "      <th>4</th>\n",
       "      <td>\"On A Clear Day You Can See Forever\" #musical ...</td>\n",
       "      <td>on a clear day you can see forever  opening ni...</td>\n",
       "      <td>on a clear day you can see forever opening nig...</td>\n",
       "      <td>{'neg': 0.0, 'neu': 0.58, 'pos': 0.42, 'compou...</td>\n",
       "      <td>0.9349</td>\n",
       "      <td>POSITIVE</td>\n",
       "    </tr>\n",
       "  </tbody>\n",
       "</table>\n",
       "</div>"
      ],
      "text/plain": [
       "                                                Text  \\\n",
       "0  @R_H_D__ @DanielTheHuman1 @StrewthQueen @Willi...   \n",
       "1  @idsharman Indeed. I'll let us take a teensy f...   \n",
       "2  @klucy239 @Mc3Mc336241251 @GOP actually its no...   \n",
       "3  #SINGAPORE: Government considering repeal of s...   \n",
       "4  \"On A Clear Day You Can See Forever\" #musical ...   \n",
       "\n",
       "                                        Cleaned_Text  \\\n",
       "0      it really is not  but good to know you wil...   \n",
       "1   indeed  i will let us take a teensy fraction ...   \n",
       "2     actually its not  not only have child drag ...   \n",
       "3    government considering repeal of sodomy law ...   \n",
       "4  on a clear day you can see forever  opening ni...   \n",
       "\n",
       "                           English_Only_Cleaned_Text  \\\n",
       "0  it really is not but good to know you will bel...   \n",
       "1  indeed i will let us take a teensy fraction of...   \n",
       "2  actually its not not only have child drag been...   \n",
       "3  government considering repeal of sodomy law al...   \n",
       "4  on a clear day you can see forever opening nig...   \n",
       "\n",
       "                                               vader  compound  \\\n",
       "0  {'neg': 0.119, 'neu': 0.809, 'pos': 0.072, 'co...   -0.3516   \n",
       "1  {'neg': 0.0, 'neu': 0.844, 'pos': 0.156, 'comp...    0.7269   \n",
       "2  {'neg': 0.063, 'neu': 0.937, 'pos': 0.0, 'comp...   -0.2684   \n",
       "3  {'neg': 0.136, 'neu': 0.606, 'pos': 0.258, 'co...    0.2960   \n",
       "4  {'neg': 0.0, 'neu': 0.58, 'pos': 0.42, 'compou...    0.9349   \n",
       "\n",
       "  Vader_Sentiment_Type  \n",
       "0             NEGATIVE  \n",
       "1             POSITIVE  \n",
       "2             NEGATIVE  \n",
       "3             POSITIVE  \n",
       "4             POSITIVE  "
      ]
     },
     "execution_count": 3,
     "metadata": {},
     "output_type": "execute_result"
    }
   ],
   "source": [
    "df.head()"
   ]
  },
  {
   "cell_type": "code",
   "execution_count": 4,
   "metadata": {},
   "outputs": [
    {
     "name": "stdout",
     "output_type": "stream",
     "text": [
      "<class 'pandas.core.frame.DataFrame'>\n",
      "RangeIndex: 20000 entries, 0 to 19999\n",
      "Data columns (total 6 columns):\n",
      " #   Column                     Non-Null Count  Dtype  \n",
      "---  ------                     --------------  -----  \n",
      " 0   Text                       20000 non-null  object \n",
      " 1   Cleaned_Text               20000 non-null  object \n",
      " 2   English_Only_Cleaned_Text  19835 non-null  object \n",
      " 3   vader                      20000 non-null  object \n",
      " 4   compound                   20000 non-null  float64\n",
      " 5   Vader_Sentiment_Type       20000 non-null  object \n",
      "dtypes: float64(1), object(5)\n",
      "memory usage: 937.6+ KB\n"
     ]
    }
   ],
   "source": [
    "df.info()"
   ]
  },
  {
   "cell_type": "code",
   "execution_count": 5,
   "metadata": {},
   "outputs": [
    {
     "data": {
      "text/html": [
       "<div>\n",
       "<style scoped>\n",
       "    .dataframe tbody tr th:only-of-type {\n",
       "        vertical-align: middle;\n",
       "    }\n",
       "\n",
       "    .dataframe tbody tr th {\n",
       "        vertical-align: top;\n",
       "    }\n",
       "\n",
       "    .dataframe thead th {\n",
       "        text-align: right;\n",
       "    }\n",
       "</style>\n",
       "<table border=\"1\" class=\"dataframe\">\n",
       "  <thead>\n",
       "    <tr style=\"text-align: right;\">\n",
       "      <th></th>\n",
       "      <th>Text</th>\n",
       "      <th>Cleaned_Text</th>\n",
       "      <th>English_Only_Cleaned_Text</th>\n",
       "      <th>vader</th>\n",
       "      <th>compound</th>\n",
       "      <th>Vader_Sentiment_Type</th>\n",
       "    </tr>\n",
       "  </thead>\n",
       "  <tbody>\n",
       "    <tr>\n",
       "      <th>136</th>\n",
       "      <td>@sliverbackapes @Badabook123 @Neeldesi @TeaSpi...</td>\n",
       "      <td>ok racist</td>\n",
       "      <td>racist</td>\n",
       "      <td>{'neg': 0.645, 'neu': 0.0, 'pos': 0.355, 'comp...</td>\n",
       "      <td>-0.4215</td>\n",
       "      <td>NEGATIVE</td>\n",
       "    </tr>\n",
       "    <tr>\n",
       "      <th>1115</th>\n",
       "      <td>@hannahsbee #Thankyou from MBE [LGBT]</td>\n",
       "      <td>from mbe [lgbt]</td>\n",
       "      <td>from [ ]</td>\n",
       "      <td>{'neg': 0.0, 'neu': 1.0, 'pos': 0.0, 'compound...</td>\n",
       "      <td>0.0000</td>\n",
       "      <td>NEUTRAL</td>\n",
       "    </tr>\n",
       "    <tr>\n",
       "      <th>1116</th>\n",
       "      <td>@hannahsbee #Thankyou from MBE [LGBT]</td>\n",
       "      <td>from mbe [lgbt]</td>\n",
       "      <td>from [ ]</td>\n",
       "      <td>{'neg': 0.0, 'neu': 1.0, 'pos': 0.0, 'compound...</td>\n",
       "      <td>0.0000</td>\n",
       "      <td>NEUTRAL</td>\n",
       "    </tr>\n",
       "    <tr>\n",
       "      <th>1117</th>\n",
       "      <td>@hannahsbee #Thankyou from MBE [LGBT]</td>\n",
       "      <td>from mbe [lgbt]</td>\n",
       "      <td>from [ ]</td>\n",
       "      <td>{'neg': 0.0, 'neu': 1.0, 'pos': 0.0, 'compound...</td>\n",
       "      <td>0.0000</td>\n",
       "      <td>NEUTRAL</td>\n",
       "    </tr>\n",
       "    <tr>\n",
       "      <th>1118</th>\n",
       "      <td>@hannahsbee #Thankyou from MBE [LGBT]</td>\n",
       "      <td>from mbe [lgbt]</td>\n",
       "      <td>from [ ]</td>\n",
       "      <td>{'neg': 0.0, 'neu': 1.0, 'pos': 0.0, 'compound...</td>\n",
       "      <td>0.0000</td>\n",
       "      <td>NEUTRAL</td>\n",
       "    </tr>\n",
       "    <tr>\n",
       "      <th>...</th>\n",
       "      <td>...</td>\n",
       "      <td>...</td>\n",
       "      <td>...</td>\n",
       "      <td>...</td>\n",
       "      <td>...</td>\n",
       "      <td>...</td>\n",
       "    </tr>\n",
       "    <tr>\n",
       "      <th>19628</th>\n",
       "      <td>An insane thought of becoming vigilantes, coup...</td>\n",
       "      <td>an insane thought of becoming vigilantes  coup...</td>\n",
       "      <td>an insane thought of becoming coupled with the...</td>\n",
       "      <td>{'neg': 0.169, 'neu': 0.831, 'pos': 0.0, 'comp...</td>\n",
       "      <td>-0.7269</td>\n",
       "      <td>NEGATIVE</td>\n",
       "    </tr>\n",
       "    <tr>\n",
       "      <th>19653</th>\n",
       "      <td>Just went live! https://t.co/5zHsS1gU8S\\n\\n#LG...</td>\n",
       "      <td>just went live</td>\n",
       "      <td>just went live</td>\n",
       "      <td>{'neg': 0.0, 'neu': 1.0, 'pos': 0.0, 'compound...</td>\n",
       "      <td>0.0000</td>\n",
       "      <td>NEUTRAL</td>\n",
       "    </tr>\n",
       "    <tr>\n",
       "      <th>19824</th>\n",
       "      <td>hampton the hamster has done more for lgbt rig...</td>\n",
       "      <td>hampton the hamster has done more for lgbt rig...</td>\n",
       "      <td>the hamster done more for than anyone else</td>\n",
       "      <td>{'neg': 0.0, 'neu': 1.0, 'pos': 0.0, 'compound...</td>\n",
       "      <td>0.0000</td>\n",
       "      <td>NEUTRAL</td>\n",
       "    </tr>\n",
       "    <tr>\n",
       "      <th>19921</th>\n",
       "      <td>lgbt community just fucking pissed me off</td>\n",
       "      <td>lgbt community just fucking pissed me off</td>\n",
       "      <td>community just me off</td>\n",
       "      <td>{'neg': 0.428, 'neu': 0.572, 'pos': 0.0, 'comp...</td>\n",
       "      <td>-0.6697</td>\n",
       "      <td>NEGATIVE</td>\n",
       "    </tr>\n",
       "    <tr>\n",
       "      <th>19960</th>\n",
       "      <td>#Love is in the air at https://t.co/EDvkYCIsAa...</td>\n",
       "      <td>is in the air at</td>\n",
       "      <td>is in the air at</td>\n",
       "      <td>{'neg': 0.0, 'neu': 1.0, 'pos': 0.0, 'compound...</td>\n",
       "      <td>0.0000</td>\n",
       "      <td>NEUTRAL</td>\n",
       "    </tr>\n",
       "  </tbody>\n",
       "</table>\n",
       "<p>224 rows × 6 columns</p>\n",
       "</div>"
      ],
      "text/plain": [
       "                                                    Text  \\\n",
       "136    @sliverbackapes @Badabook123 @Neeldesi @TeaSpi...   \n",
       "1115               @hannahsbee #Thankyou from MBE [LGBT]   \n",
       "1116               @hannahsbee #Thankyou from MBE [LGBT]   \n",
       "1117               @hannahsbee #Thankyou from MBE [LGBT]   \n",
       "1118               @hannahsbee #Thankyou from MBE [LGBT]   \n",
       "...                                                  ...   \n",
       "19628  An insane thought of becoming vigilantes, coup...   \n",
       "19653  Just went live! https://t.co/5zHsS1gU8S\\n\\n#LG...   \n",
       "19824  hampton the hamster has done more for lgbt rig...   \n",
       "19921          lgbt community just fucking pissed me off   \n",
       "19960  #Love is in the air at https://t.co/EDvkYCIsAa...   \n",
       "\n",
       "                                            Cleaned_Text  \\\n",
       "136                                            ok racist   \n",
       "1115                                     from mbe [lgbt]   \n",
       "1116                                     from mbe [lgbt]   \n",
       "1117                                     from mbe [lgbt]   \n",
       "1118                                     from mbe [lgbt]   \n",
       "...                                                  ...   \n",
       "19628  an insane thought of becoming vigilantes  coup...   \n",
       "19653                            just went live            \n",
       "19824  hampton the hamster has done more for lgbt rig...   \n",
       "19921          lgbt community just fucking pissed me off   \n",
       "19960                               is in the air at       \n",
       "\n",
       "                               English_Only_Cleaned_Text  \\\n",
       "136                                               racist   \n",
       "1115                                            from [ ]   \n",
       "1116                                            from [ ]   \n",
       "1117                                            from [ ]   \n",
       "1118                                            from [ ]   \n",
       "...                                                  ...   \n",
       "19628  an insane thought of becoming coupled with the...   \n",
       "19653                                     just went live   \n",
       "19824         the hamster done more for than anyone else   \n",
       "19921                              community just me off   \n",
       "19960                                   is in the air at   \n",
       "\n",
       "                                                   vader  compound  \\\n",
       "136    {'neg': 0.645, 'neu': 0.0, 'pos': 0.355, 'comp...   -0.4215   \n",
       "1115   {'neg': 0.0, 'neu': 1.0, 'pos': 0.0, 'compound...    0.0000   \n",
       "1116   {'neg': 0.0, 'neu': 1.0, 'pos': 0.0, 'compound...    0.0000   \n",
       "1117   {'neg': 0.0, 'neu': 1.0, 'pos': 0.0, 'compound...    0.0000   \n",
       "1118   {'neg': 0.0, 'neu': 1.0, 'pos': 0.0, 'compound...    0.0000   \n",
       "...                                                  ...       ...   \n",
       "19628  {'neg': 0.169, 'neu': 0.831, 'pos': 0.0, 'comp...   -0.7269   \n",
       "19653  {'neg': 0.0, 'neu': 1.0, 'pos': 0.0, 'compound...    0.0000   \n",
       "19824  {'neg': 0.0, 'neu': 1.0, 'pos': 0.0, 'compound...    0.0000   \n",
       "19921  {'neg': 0.428, 'neu': 0.572, 'pos': 0.0, 'comp...   -0.6697   \n",
       "19960  {'neg': 0.0, 'neu': 1.0, 'pos': 0.0, 'compound...    0.0000   \n",
       "\n",
       "      Vader_Sentiment_Type  \n",
       "136               NEGATIVE  \n",
       "1115               NEUTRAL  \n",
       "1116               NEUTRAL  \n",
       "1117               NEUTRAL  \n",
       "1118               NEUTRAL  \n",
       "...                    ...  \n",
       "19628             NEGATIVE  \n",
       "19653              NEUTRAL  \n",
       "19824              NEUTRAL  \n",
       "19921             NEGATIVE  \n",
       "19960              NEUTRAL  \n",
       "\n",
       "[224 rows x 6 columns]"
      ]
     },
     "execution_count": 5,
     "metadata": {},
     "output_type": "execute_result"
    }
   ],
   "source": [
    "df[df.duplicated()]"
   ]
  },
  {
   "cell_type": "code",
   "execution_count": 6,
   "metadata": {},
   "outputs": [],
   "source": [
    "df.rename(columns={\"Vader_Sentiment_Type\":\"sentiment\",\"Text\":\"text\"}, inplace=True)\n",
    "df = df[['text','sentiment']]"
   ]
  },
  {
   "cell_type": "code",
   "execution_count": 7,
   "metadata": {},
   "outputs": [],
   "source": [
    "import re\n",
    "import string\n",
    "import emoji\n",
    "\n",
    "##CUSTOM DEFINED FUNCTIONS TO CLEAN THE TWEETS\n",
    "\n",
    "#Clean emojis from text\n",
    "def strip_emoji(text):\n",
    "    return re.sub(emoji.get_emoji_regexp(), r\"\", text) #remove emoji\n",
    "\n",
    "#Remove punctuations, links, mentions and \\r\\n new line characters\n",
    "def strip_all_entities(text): \n",
    "    text = text.replace('\\r', '').replace('\\n', ' ').replace('\\n', ' ').lower() #remove \\n and \\r and lowercase\n",
    "    text = re.sub(r\"(?:\\@|https?\\://)\\S+\", \"\", text) #remove links and mentions\n",
    "    text = re.sub(r'[^\\x00-\\x7f]',r'', text) #remove non utf8/ascii characters such as '\\x9a\\x91\\x97\\x9a\\x97'\n",
    "    banned_list= string.punctuation + 'Ã'+'±'+'ã'+'¼'+'â'+'»'+'§'\n",
    "    table = str.maketrans('', '', banned_list)\n",
    "    text = text.translate(table)\n",
    "    return text\n",
    "\n",
    "#clean hashtags at the end of the sentence, and keep those in the middle of the sentence by removing just the # symbol\n",
    "def clean_hashtags(tweet):\n",
    "    new_tweet = \" \".join(word.strip() for word in re.split('#(?!(?:hashtag)\\b)[\\w-]+(?=(?:\\s+#[\\w-]+)*\\s*$)', tweet)) #remove last hashtags\n",
    "    new_tweet2 = \" \".join(word.strip() for word in re.split('#|_', new_tweet)) #remove hashtags symbol from words in the middle of the sentence\n",
    "    return new_tweet2\n",
    "\n",
    "#Filter special characters such as & and $ present in some words\n",
    "def filter_chars(a):\n",
    "    sent = []\n",
    "    for word in a.split(' '):\n",
    "        if ('$' in word) | ('&' in word):\n",
    "            sent.append('')\n",
    "        else:\n",
    "            sent.append(word)\n",
    "    return ' '.join(sent)\n",
    "\n",
    "def remove_mult_spaces(text): # remove multiple spaces\n",
    "    return re.sub(\"\\s\\s+\" , \" \", text)"
   ]
  },
  {
   "cell_type": "code",
   "execution_count": 8,
   "metadata": {},
   "outputs": [],
   "source": [
    "texts_new = []\n",
    "for t in df.text:\n",
    "    texts_new.append(remove_mult_spaces(filter_chars(clean_hashtags(strip_all_entities(strip_emoji(t))))))"
   ]
  },
  {
   "cell_type": "code",
   "execution_count": 9,
   "metadata": {},
   "outputs": [],
   "source": [
    "df['text_clean'] = texts_new"
   ]
  },
  {
   "cell_type": "code",
   "execution_count": 10,
   "metadata": {},
   "outputs": [
    {
     "data": {
      "text/plain": [
       "0    it really isnt but good to know youll believe ...\n",
       "1    indeed ill let us take a teensy fraction of re...\n",
       "2    actually its not not only have child drag show...\n",
       "3    singapore government considering repeal of sod...\n",
       "4    on a clear day you can see forever musical ope...\n",
       "Name: text_clean, dtype: object"
      ]
     },
     "execution_count": 10,
     "metadata": {},
     "output_type": "execute_result"
    }
   ],
   "source": [
    "df['text_clean'].head()"
   ]
  },
  {
   "cell_type": "code",
   "execution_count": 11,
   "metadata": {},
   "outputs": [],
   "source": [
    "text_len = []\n",
    "for text in df.text_clean:\n",
    "    tweet_len = len(text.split())\n",
    "    text_len.append(tweet_len)"
   ]
  },
  {
   "cell_type": "code",
   "execution_count": 12,
   "metadata": {},
   "outputs": [],
   "source": [
    "df['text_len'] = text_len"
   ]
  },
  {
   "cell_type": "code",
   "execution_count": 13,
   "metadata": {},
   "outputs": [
    {
     "data": {
      "image/png": "[encoded data removed]",
      "text/plain": [
       "<Figure size 504x360 with 1 Axes>"
      ]
     },
     "metadata": {
      "needs_background": "light"
     },
     "output_type": "display_data"
    }
   ],
   "source": [
    "import matplotlib.pyplot as plt\n",
    "import seaborn as sns\n",
    "\n",
    "plt.figure(figsize=(7,5))\n",
    "ax = sns.countplot(x='text_len', data=df[df['text_len']<10], palette='mako')\n",
    "plt.title('Training tweets with less than 10 words')\n",
    "plt.yticks([])\n",
    "ax.bar_label(ax.containers[0])\n",
    "plt.ylabel('count')\n",
    "plt.xlabel('')\n",
    "plt.show()"
   ]
  },
  {
   "cell_type": "code",
   "execution_count": 14,
   "metadata": {},
   "outputs": [
    {
     "data": {
      "text/plain": [
       "(20000, 4)"
      ]
     },
     "execution_count": 14,
     "metadata": {},
     "output_type": "execute_result"
    }
   ],
   "source": [
    "df.shape"
   ]
  },
  {
   "cell_type": "code",
   "execution_count": 15,
   "metadata": {},
   "outputs": [],
   "source": [
    "df = df[df['text_len'] > 1]"
   ]
  },
  {
   "cell_type": "code",
   "execution_count": 16,
   "metadata": {},
   "outputs": [
    {
     "data": {
      "text/plain": [
       "(19922, 4)"
      ]
     },
     "execution_count": 16,
     "metadata": {},
     "output_type": "execute_result"
    }
   ],
   "source": [
    "df.shape"
   ]
  },
  {
   "cell_type": "code",
   "execution_count": 17,
   "metadata": {},
   "outputs": [],
   "source": [
    "from transformers import BertTokenizerFast\n",
    "\n",
    "tokenizer = BertTokenizerFast.from_pretrained('bert-base-uncased')"
   ]
  },
  {
   "cell_type": "code",
   "execution_count": 18,
   "metadata": {},
   "outputs": [],
   "source": [
    "token_lens = []\n",
    "\n",
    "for txt in df['text_clean'].values:\n",
    "    tokens = tokenizer.encode(txt, max_length=512, truncation=True)\n",
    "    token_lens.append(len(tokens))\n",
    "    \n",
    "max_len=np.max(token_lens)"
   ]
  },
  {
   "cell_type": "code",
   "execution_count": 19,
   "metadata": {},
   "outputs": [
    {
     "name": "stdout",
     "output_type": "stream",
     "text": [
      "MAX TOKENIZED SENTENCE LENGTH: 93\n"
     ]
    }
   ],
   "source": [
    "print(f\"MAX TOKENIZED SENTENCE LENGTH: {max_len}\")"
   ]
  },
  {
   "cell_type": "code",
   "execution_count": 20,
   "metadata": {},
   "outputs": [
    {
     "name": "stdout",
     "output_type": "stream",
     "text": [
      "INDEX: 4938, TEXT: vc nem faz parte da comunidade lgbt garota acha que pode ficar fazendo piada ainda usa smt smt smt smt smt smt smt smt smt smt smt smt smt smt smt smt smt smt smt smt smt smt smt smt smt smt smt smt smt smt\n",
      "INDEX: 14365, TEXT: d russian dont hav n ther country 2 ruin my 200m career lifestyle wil paul whelan hav 2 win n a wizard witchs sorcery lgbt homosexual taliban ceos stack deck bwiths game wen he gets out of a rusian prison d nazis amp ther nigaz if u aint wt amp hav a nuk u beter keep it\n"
     ]
    }
   ],
   "source": [
    "token_lens = []\n",
    "\n",
    "for i,txt in enumerate(df['text_clean'].values):\n",
    "    tokens = tokenizer.encode(txt, max_length=512, truncation=True)\n",
    "    token_lens.append(len(tokens))\n",
    "    if len(tokens)>80:\n",
    "        print(f\"INDEX: {i}, TEXT: {txt}\")  "
   ]
  },
  {
   "cell_type": "code",
   "execution_count": 21,
   "metadata": {},
   "outputs": [],
   "source": [
    "df['token_lens'] = token_lens"
   ]
  },
  {
   "cell_type": "code",
   "execution_count": 22,
   "metadata": {},
   "outputs": [
    {
     "data": {
      "text/html": [
       "<div>\n",
       "<style scoped>\n",
       "    .dataframe tbody tr th:only-of-type {\n",
       "        vertical-align: middle;\n",
       "    }\n",
       "\n",
       "    .dataframe tbody tr th {\n",
       "        vertical-align: top;\n",
       "    }\n",
       "\n",
       "    .dataframe thead th {\n",
       "        text-align: right;\n",
       "    }\n",
       "</style>\n",
       "<table border=\"1\" class=\"dataframe\">\n",
       "  <thead>\n",
       "    <tr style=\"text-align: right;\">\n",
       "      <th></th>\n",
       "      <th>text</th>\n",
       "      <th>sentiment</th>\n",
       "      <th>text_clean</th>\n",
       "      <th>text_len</th>\n",
       "      <th>token_lens</th>\n",
       "    </tr>\n",
       "  </thead>\n",
       "  <tbody>\n",
       "    <tr>\n",
       "      <th>4958</th>\n",
       "      <td>@isadazx @MariaJose27942 @04h37m vc nem faz pa...</td>\n",
       "      <td>NEUTRAL</td>\n",
       "      <td>vc nem faz parte da comunidade lgbt garota ach...</td>\n",
       "      <td>46</td>\n",
       "      <td>93</td>\n",
       "    </tr>\n",
       "    <tr>\n",
       "      <th>14392</th>\n",
       "      <td>D Russian dont hav n ther Country 2 Ruin My 20...</td>\n",
       "      <td>NEGATIVE</td>\n",
       "      <td>d russian dont hav n ther country 2 ruin my 20...</td>\n",
       "      <td>57</td>\n",
       "      <td>81</td>\n",
       "    </tr>\n",
       "    <tr>\n",
       "      <th>6132</th>\n",
       "      <td>@erasmus70 Fashion, fashion apapun atau mau be...</td>\n",
       "      <td>POSITIVE</td>\n",
       "      <td>fashion fashion apapun atau mau berekspresi se...</td>\n",
       "      <td>49</td>\n",
       "      <td>78</td>\n",
       "    </tr>\n",
       "    <tr>\n",
       "      <th>15486</th>\n",
       "      <td>CEOs Didn 💬 Abou Prisoner Swap 4 U n 3yrs as a...</td>\n",
       "      <td>NEGATIVE</td>\n",
       "      <td>ceos didn abou prisoner swap 4 u n 3yrs as a m...</td>\n",
       "      <td>52</td>\n",
       "      <td>77</td>\n",
       "    </tr>\n",
       "    <tr>\n",
       "      <th>15826</th>\n",
       "      <td>GA 🗳 #BlueCrew 💥👥🗳💥 #VoteBlue\\n 🗣 #OurBlueVoic...</td>\n",
       "      <td>NEGATIVE</td>\n",
       "      <td>ga bluecrew voteblue ourbluevoice demvoice1 pl...</td>\n",
       "      <td>24</td>\n",
       "      <td>77</td>\n",
       "    </tr>\n",
       "    <tr>\n",
       "      <th>4723</th>\n",
       "      <td>also ill have a carrd at some point … idk … bu...</td>\n",
       "      <td>NEGATIVE</td>\n",
       "      <td>also ill have a carrd at some point idk but fo...</td>\n",
       "      <td>57</td>\n",
       "      <td>77</td>\n",
       "    </tr>\n",
       "    <tr>\n",
       "      <th>14125</th>\n",
       "      <td>Do any person n USA 💬 Paul Whelan &amp;amp; Britan...</td>\n",
       "      <td>NEGATIVE</td>\n",
       "      <td>do any person n usa paul whelan amp britany gr...</td>\n",
       "      <td>59</td>\n",
       "      <td>76</td>\n",
       "    </tr>\n",
       "    <tr>\n",
       "      <th>8126</th>\n",
       "      <td>@mikatsuobushi andami kasing misconceptions do...</td>\n",
       "      <td>POSITIVE</td>\n",
       "      <td>andami kasing misconceptions don lalo na sa us...</td>\n",
       "      <td>54</td>\n",
       "      <td>76</td>\n",
       "    </tr>\n",
       "    <tr>\n",
       "      <th>8004</th>\n",
       "      <td>whatttt??? bruhh it’s just a fashion?? they ju...</td>\n",
       "      <td>NEUTRAL</td>\n",
       "      <td>whatttt bruhh its just a fashion they just exp...</td>\n",
       "      <td>40</td>\n",
       "      <td>75</td>\n",
       "    </tr>\n",
       "    <tr>\n",
       "      <th>320</th>\n",
       "      <td>Comfortable in my skin #Cozy\\n✨ 🦄 🤸‍♀️ \\n\\n#fi...</td>\n",
       "      <td>POSITIVE</td>\n",
       "      <td>comfortable in my skin cozy fitness workout th...</td>\n",
       "      <td>24</td>\n",
       "      <td>74</td>\n",
       "    </tr>\n",
       "    <tr>\n",
       "      <th>9583</th>\n",
       "      <td>@Clyyyde06 Oo that's true. Have you seen the v...</td>\n",
       "      <td>POSITIVE</td>\n",
       "      <td>oo thats true have you seen the video shared o...</td>\n",
       "      <td>58</td>\n",
       "      <td>73</td>\n",
       "    </tr>\n",
       "    <tr>\n",
       "      <th>10183</th>\n",
       "      <td>3. LGBT is cool. Should be taken more seriousl...</td>\n",
       "      <td>NEGATIVE</td>\n",
       "      <td>3 lgbt is cool should be taken more seriously ...</td>\n",
       "      <td>46</td>\n",
       "      <td>73</td>\n",
       "    </tr>\n",
       "    <tr>\n",
       "      <th>19793</th>\n",
       "      <td>#joinus #tonight on #twitch for ep 3 of the To...</td>\n",
       "      <td>NEUTRAL</td>\n",
       "      <td>joinus tonight on twitch for ep 3 of the tomb ...</td>\n",
       "      <td>30</td>\n",
       "      <td>73</td>\n",
       "    </tr>\n",
       "    <tr>\n",
       "      <th>7477</th>\n",
       "      <td>GenZ GenX Millennials Boomers GenZforChoice LG...</td>\n",
       "      <td>NEGATIVE</td>\n",
       "      <td>genz genx millennials boomers genzforchoice lg...</td>\n",
       "      <td>41</td>\n",
       "      <td>73</td>\n",
       "    </tr>\n",
       "    <tr>\n",
       "      <th>8445</th>\n",
       "      <td>@_DevAkshi__ May be the person meant : when ot...</td>\n",
       "      <td>POSITIVE</td>\n",
       "      <td>may be the person meant when others remove the...</td>\n",
       "      <td>55</td>\n",
       "      <td>72</td>\n",
       "    </tr>\n",
       "    <tr>\n",
       "      <th>9559</th>\n",
       "      <td>Devils Advocate,Mel Gibson Usual Suspects wit ...</td>\n",
       "      <td>NEGATIVE</td>\n",
       "      <td>devils advocatemel gibson usual suspects wit a...</td>\n",
       "      <td>51</td>\n",
       "      <td>72</td>\n",
       "    </tr>\n",
       "    <tr>\n",
       "      <th>18792</th>\n",
       "      <td>ketinggalan i think the problem is \"macet &amp;amp...</td>\n",
       "      <td>POSITIVE</td>\n",
       "      <td>ketinggalan i think the problem is macet amp n...</td>\n",
       "      <td>52</td>\n",
       "      <td>72</td>\n",
       "    </tr>\n",
       "    <tr>\n",
       "      <th>14833</th>\n",
       "      <td>@LeaderMcConnell GenZ GenX Millennials Boomers...</td>\n",
       "      <td>POSITIVE</td>\n",
       "      <td>genz genx millennials boomers genzforchoice lg...</td>\n",
       "      <td>39</td>\n",
       "      <td>72</td>\n",
       "    </tr>\n",
       "    <tr>\n",
       "      <th>14393</th>\n",
       "      <td>CBS:Lou Rawls used singn &amp;amp; a 200M💲 Career ...</td>\n",
       "      <td>NEGATIVE</td>\n",
       "      <td>cbslou rawls used singn amp a 200m career beyo...</td>\n",
       "      <td>50</td>\n",
       "      <td>72</td>\n",
       "    </tr>\n",
       "    <tr>\n",
       "      <th>16476</th>\n",
       "      <td>the level of backtracking in the last 72 hours...</td>\n",
       "      <td>NEGATIVE</td>\n",
       "      <td>the level of backtracking in the last 72 hours...</td>\n",
       "      <td>44</td>\n",
       "      <td>71</td>\n",
       "    </tr>\n",
       "  </tbody>\n",
       "</table>\n",
       "</div>"
      ],
      "text/plain": [
       "                                                    text sentiment  \\\n",
       "4958   @isadazx @MariaJose27942 @04h37m vc nem faz pa...   NEUTRAL   \n",
       "14392  D Russian dont hav n ther Country 2 Ruin My 20...  NEGATIVE   \n",
       "6132   @erasmus70 Fashion, fashion apapun atau mau be...  POSITIVE   \n",
       "15486  CEOs Didn 💬 Abou Prisoner Swap 4 U n 3yrs as a...  NEGATIVE   \n",
       "15826  GA 🗳 #BlueCrew 💥👥🗳💥 #VoteBlue\\n 🗣 #OurBlueVoic...  NEGATIVE   \n",
       "4723   also ill have a carrd at some point … idk … bu...  NEGATIVE   \n",
       "14125  Do any person n USA 💬 Paul Whelan &amp; Britan...  NEGATIVE   \n",
       "8126   @mikatsuobushi andami kasing misconceptions do...  POSITIVE   \n",
       "8004   whatttt??? bruhh it’s just a fashion?? they ju...   NEUTRAL   \n",
       "320    Comfortable in my skin #Cozy\\n✨ 🦄 🤸‍♀️ \\n\\n#fi...  POSITIVE   \n",
       "9583   @Clyyyde06 Oo that's true. Have you seen the v...  POSITIVE   \n",
       "10183  3. LGBT is cool. Should be taken more seriousl...  NEGATIVE   \n",
       "19793  #joinus #tonight on #twitch for ep 3 of the To...   NEUTRAL   \n",
       "7477   GenZ GenX Millennials Boomers GenZforChoice LG...  NEGATIVE   \n",
       "8445   @_DevAkshi__ May be the person meant : when ot...  POSITIVE   \n",
       "9559   Devils Advocate,Mel Gibson Usual Suspects wit ...  NEGATIVE   \n",
       "18792  ketinggalan i think the problem is \"macet &amp...  POSITIVE   \n",
       "14833  @LeaderMcConnell GenZ GenX Millennials Boomers...  POSITIVE   \n",
       "14393  CBS:Lou Rawls used singn &amp; a 200M💲 Career ...  NEGATIVE   \n",
       "16476  the level of backtracking in the last 72 hours...  NEGATIVE   \n",
       "\n",
       "                                              text_clean  text_len  token_lens  \n",
       "4958   vc nem faz parte da comunidade lgbt garota ach...        46          93  \n",
       "14392  d russian dont hav n ther country 2 ruin my 20...        57          81  \n",
       "6132   fashion fashion apapun atau mau berekspresi se...        49          78  \n",
       "15486  ceos didn abou prisoner swap 4 u n 3yrs as a m...        52          77  \n",
       "15826  ga bluecrew voteblue ourbluevoice demvoice1 pl...        24          77  \n",
       "4723   also ill have a carrd at some point idk but fo...        57          77  \n",
       "14125  do any person n usa paul whelan amp britany gr...        59          76  \n",
       "8126   andami kasing misconceptions don lalo na sa us...        54          76  \n",
       "8004   whatttt bruhh its just a fashion they just exp...        40          75  \n",
       "320    comfortable in my skin cozy fitness workout th...        24          74  \n",
       "9583   oo thats true have you seen the video shared o...        58          73  \n",
       "10183  3 lgbt is cool should be taken more seriously ...        46          73  \n",
       "19793  joinus tonight on twitch for ep 3 of the tomb ...        30          73  \n",
       "7477   genz genx millennials boomers genzforchoice lg...        41          73  \n",
       "8445   may be the person meant when others remove the...        55          72  \n",
       "9559   devils advocatemel gibson usual suspects wit a...        51          72  \n",
       "18792  ketinggalan i think the problem is macet amp n...        52          72  \n",
       "14833  genz genx millennials boomers genzforchoice lg...        39          72  \n",
       "14393  cbslou rawls used singn amp a 200m career beyo...        50          72  \n",
       "16476  the level of backtracking in the last 72 hours...        44          71  "
      ]
     },
     "execution_count": 22,
     "metadata": {},
     "output_type": "execute_result"
    }
   ],
   "source": [
    "df = df.sort_values(by='token_lens', ascending=False)\n",
    "df.head(20)"
   ]
  },
  {
   "cell_type": "code",
   "execution_count": 23,
   "metadata": {},
   "outputs": [
    {
     "data": {
      "text/html": [
       "<div>\n",
       "<style scoped>\n",
       "    .dataframe tbody tr th:only-of-type {\n",
       "        vertical-align: middle;\n",
       "    }\n",
       "\n",
       "    .dataframe tbody tr th {\n",
       "        vertical-align: top;\n",
       "    }\n",
       "\n",
       "    .dataframe thead th {\n",
       "        text-align: right;\n",
       "    }\n",
       "</style>\n",
       "<table border=\"1\" class=\"dataframe\">\n",
       "  <thead>\n",
       "    <tr style=\"text-align: right;\">\n",
       "      <th></th>\n",
       "      <th>text</th>\n",
       "      <th>sentiment</th>\n",
       "      <th>text_clean</th>\n",
       "      <th>text_len</th>\n",
       "      <th>token_lens</th>\n",
       "    </tr>\n",
       "  </thead>\n",
       "  <tbody>\n",
       "    <tr>\n",
       "      <th>8004</th>\n",
       "      <td>whatttt??? bruhh it’s just a fashion?? they ju...</td>\n",
       "      <td>NEUTRAL</td>\n",
       "      <td>whatttt bruhh its just a fashion they just exp...</td>\n",
       "      <td>40</td>\n",
       "      <td>75</td>\n",
       "    </tr>\n",
       "    <tr>\n",
       "      <th>320</th>\n",
       "      <td>Comfortable in my skin #Cozy\\n✨ 🦄 🤸‍♀️ \\n\\n#fi...</td>\n",
       "      <td>POSITIVE</td>\n",
       "      <td>comfortable in my skin cozy fitness workout th...</td>\n",
       "      <td>24</td>\n",
       "      <td>74</td>\n",
       "    </tr>\n",
       "    <tr>\n",
       "      <th>9583</th>\n",
       "      <td>@Clyyyde06 Oo that's true. Have you seen the v...</td>\n",
       "      <td>POSITIVE</td>\n",
       "      <td>oo thats true have you seen the video shared o...</td>\n",
       "      <td>58</td>\n",
       "      <td>73</td>\n",
       "    </tr>\n",
       "    <tr>\n",
       "      <th>10183</th>\n",
       "      <td>3. LGBT is cool. Should be taken more seriousl...</td>\n",
       "      <td>NEGATIVE</td>\n",
       "      <td>3 lgbt is cool should be taken more seriously ...</td>\n",
       "      <td>46</td>\n",
       "      <td>73</td>\n",
       "    </tr>\n",
       "    <tr>\n",
       "      <th>19793</th>\n",
       "      <td>#joinus #tonight on #twitch for ep 3 of the To...</td>\n",
       "      <td>NEUTRAL</td>\n",
       "      <td>joinus tonight on twitch for ep 3 of the tomb ...</td>\n",
       "      <td>30</td>\n",
       "      <td>73</td>\n",
       "    </tr>\n",
       "  </tbody>\n",
       "</table>\n",
       "</div>"
      ],
      "text/plain": [
       "                                                    text sentiment  \\\n",
       "8004   whatttt??? bruhh it’s just a fashion?? they ju...   NEUTRAL   \n",
       "320    Comfortable in my skin #Cozy\\n✨ 🦄 🤸‍♀️ \\n\\n#fi...  POSITIVE   \n",
       "9583   @Clyyyde06 Oo that's true. Have you seen the v...  POSITIVE   \n",
       "10183  3. LGBT is cool. Should be taken more seriousl...  NEGATIVE   \n",
       "19793  #joinus #tonight on #twitch for ep 3 of the To...   NEUTRAL   \n",
       "\n",
       "                                              text_clean  text_len  token_lens  \n",
       "8004   whatttt bruhh its just a fashion they just exp...        40          75  \n",
       "320    comfortable in my skin cozy fitness workout th...        24          74  \n",
       "9583   oo thats true have you seen the video shared o...        58          73  \n",
       "10183  3 lgbt is cool should be taken more seriously ...        46          73  \n",
       "19793  joinus tonight on twitch for ep 3 of the tomb ...        30          73  "
      ]
     },
     "execution_count": 23,
     "metadata": {},
     "output_type": "execute_result"
    }
   ],
   "source": [
    "df = df.iloc[8:]\n",
    "df.head()"
   ]
  },
  {
   "cell_type": "code",
   "execution_count": 24,
   "metadata": {},
   "outputs": [],
   "source": [
    "df = df.sample(frac=1).reset_index(drop=True)"
   ]
  },
  {
   "cell_type": "code",
   "execution_count": 25,
   "metadata": {},
   "outputs": [],
   "source": [
    "df['sentiment'] = df['sentiment'].map({'NEGATIVE':0,'NEUTRAL':1,'POSITIVE':2})"
   ]
  },
  {
   "cell_type": "code",
   "execution_count": 26,
   "metadata": {},
   "outputs": [
    {
     "data": {
      "text/plain": [
       "2    8844\n",
       "0    7300\n",
       "1    3770\n",
       "Name: sentiment, dtype: int64"
      ]
     },
     "execution_count": 26,
     "metadata": {},
     "output_type": "execute_result"
    }
   ],
   "source": [
    "df['sentiment'].value_counts()"
   ]
  },
  {
   "cell_type": "code",
   "execution_count": 27,
   "metadata": {},
   "outputs": [],
   "source": [
    "from imblearn.over_sampling import RandomOverSampler\n",
    "\n",
    "ros = RandomOverSampler()\n",
    "x, y = ros.fit_resample(np.array(df['text_clean']).reshape(-1, 1), np.array(df['sentiment']).reshape(-1, 1))\n",
    "df = pd.DataFrame(list(zip([i[0] for i in x], y)), columns = ['text', 'label'])"
   ]
  },
  {
   "cell_type": "code",
   "execution_count": 28,
   "metadata": {},
   "outputs": [
    {
     "data": {
      "text/plain": [
       "2    8844\n",
       "0    8844\n",
       "1    8844\n",
       "Name: label, dtype: int64"
      ]
     },
     "execution_count": 28,
     "metadata": {},
     "output_type": "execute_result"
    }
   ],
   "source": [
    "df['label'].value_counts()"
   ]
  },
  {
   "cell_type": "code",
   "execution_count": 29,
   "metadata": {},
   "outputs": [],
   "source": [
    "from sklearn.model_selection import train_test_split\n",
    "#split the data into train and test set\n",
    "\n",
    "temp,test = train_test_split(df, test_size=0.20, stratify=df['label'])\n",
    "train,val = train_test_split(temp, test_size=0.25, stratify=temp['label'])\n",
    "\n",
    "#save the data\n",
    "train.to_csv('data/tweets_train.csv',index=False)\n",
    "val.to_csv('data/tweets_val.csv',index=False)\n",
    "test.to_csv('data/tweets_test.csv',index=False)"
   ]
  },
  {
   "cell_type": "markdown",
   "metadata": {},
   "source": [
    "# SENTIMENT ANALYSIS"
   ]
  },
  {
   "cell_type": "code",
   "execution_count": 30,
   "metadata": {},
   "outputs": [],
   "source": [
    "train = pd.read_csv('data/tweets_train.csv')\n",
    "val = pd.read_csv('data/tweets_val.csv')\n",
    "test = pd.read_csv('data/tweets_test.csv')"
   ]
  },
  {
   "cell_type": "code",
   "execution_count": 31,
   "metadata": {},
   "outputs": [],
   "source": [
    "X_train = train['text'].values\n",
    "y_train = train['label'].values\n",
    "X_val = val['text'].values\n",
    "y_val = val['label'].values\n",
    "X_test = test['text'].values\n",
    "y_test = test['label'].values"
   ]
  },
  {
   "cell_type": "code",
   "execution_count": 32,
   "metadata": {},
   "outputs": [],
   "source": [
    "y_train_le = y_train.copy()\n",
    "y_val_le = y_val.copy()\n",
    "y_test_le = y_test.copy()"
   ]
  },
  {
   "cell_type": "code",
   "execution_count": 33,
   "metadata": {},
   "outputs": [],
   "source": [
    "from sklearn import preprocessing\n",
    "\n",
    "ohe = preprocessing.OneHotEncoder()\n",
    "y_train = ohe.fit_transform(np.array(y_train).reshape(-1, 1)).toarray()\n",
    "y_val = ohe.fit_transform(np.array(y_val).reshape(-1, 1)).toarray()\n",
    "y_test = ohe.fit_transform(np.array(y_test).reshape(-1, 1)).toarray()"
   ]
  },
  {
   "cell_type": "code",
   "execution_count": 34,
   "metadata": {},
   "outputs": [
    {
     "name": "stdout",
     "output_type": "stream",
     "text": [
      "TRAINING DATA: 15918\n",
      "VALIDATION DATA: 5307\n",
      "TESTING DATA: 5307\n"
     ]
    }
   ],
   "source": [
    "print(f\"TRAINING DATA: {X_train.shape[0]}\\nVALIDATION DATA: {X_val.shape[0]}\\nTESTING DATA: {X_test.shape[0]}\" )"
   ]
  },
  {
   "cell_type": "markdown",
   "metadata": {},
   "source": [
    "## BASELINE MODEL: NAIVE BAYES CLASSIFIER"
   ]
  },
  {
   "cell_type": "code",
   "execution_count": 35,
   "metadata": {},
   "outputs": [],
   "source": [
    "from sklearn.feature_extraction.text import CountVectorizer\n",
    "from sklearn.feature_extraction.text import TfidfTransformer\n",
    "from sklearn.naive_bayes import MultinomialNB\n",
    "\n",
    "clf = CountVectorizer()\n",
    "X_train_cv =  clf.fit_transform(X_train)\n",
    "X_test_cv = clf.transform(X_test)"
   ]
  },
  {
   "cell_type": "code",
   "execution_count": 36,
   "metadata": {},
   "outputs": [],
   "source": [
    "tf_transformer = TfidfTransformer(use_idf=True).fit(X_train_cv)\n",
    "X_train_tf = tf_transformer.transform(X_train_cv)\n",
    "X_test_tf = tf_transformer.transform(X_test_cv)"
   ]
  },
  {
   "cell_type": "code",
   "execution_count": 37,
   "metadata": {},
   "outputs": [],
   "source": [
    "nb_clf = MultinomialNB()"
   ]
  },
  {
   "cell_type": "code",
   "execution_count": 38,
   "metadata": {},
   "outputs": [
    {
     "data": {
      "text/html": [
       "<style>#sk-container-id-1 {color: black;background-color: white;}#sk-container-id-1 pre{padding: 0;}#sk-container-id-1 div.sk-toggleable {background-color: white;}#sk-container-id-1 label.sk-toggleable__label {cursor: pointer;display: block;width: 100%;margin-bottom: 0;padding: 0.3em;box-sizing: border-box;text-align: center;}#sk-container-id-1 label.sk-toggleable__label-arrow:before {content: \"▸\";float: left;margin-right: 0.25em;color: #696969;}#sk-container-id-1 label.sk-toggleable__label-arrow:hover:before {color: black;}#sk-container-id-1 div.sk-estimator:hover label.sk-toggleable__label-arrow:before {color: black;}#sk-container-id-1 div.sk-toggleable__content {max-height: 0;max-width: 0;overflow: hidden;text-align: left;background-color: #f0f8ff;}#sk-container-id-1 div.sk-toggleable__content pre {margin: 0.2em;color: black;border-radius: 0.25em;background-color: #f0f8ff;}#sk-container-id-1 input.sk-toggleable__control:checked~div.sk-toggleable__content {max-height: 200px;max-width: 100%;overflow: auto;}#sk-container-id-1 input.sk-toggleable__control:checked~label.sk-toggleable__label-arrow:before {content: \"▾\";}#sk-container-id-1 div.sk-estimator input.sk-toggleable__control:checked~label.sk-toggleable__label {background-color: #d4ebff;}#sk-container-id-1 div.sk-label input.sk-toggleable__control:checked~label.sk-toggleable__label {background-color: #d4ebff;}#sk-container-id-1 input.sk-hidden--visually {border: 0;clip: rect(1px 1px 1px 1px);clip: rect(1px, 1px, 1px, 1px);height: 1px;margin: -1px;overflow: hidden;padding: 0;position: absolute;width: 1px;}#sk-container-id-1 div.sk-estimator {font-family: monospace;background-color: #f0f8ff;border: 1px dotted black;border-radius: 0.25em;box-sizing: border-box;margin-bottom: 0.5em;}#sk-container-id-1 div.sk-estimator:hover {background-color: #d4ebff;}#sk-container-id-1 div.sk-parallel-item::after {content: \"\";width: 100%;border-bottom: 1px solid gray;flex-grow: 1;}#sk-container-id-1 div.sk-label:hover label.sk-toggleable__label {background-color: #d4ebff;}#sk-container-id-1 div.sk-serial::before {content: \"\";position: absolute;border-left: 1px solid gray;box-sizing: border-box;top: 0;bottom: 0;left: 50%;z-index: 0;}#sk-container-id-1 div.sk-serial {display: flex;flex-direction: column;align-items: center;background-color: white;padding-right: 0.2em;padding-left: 0.2em;position: relative;}#sk-container-id-1 div.sk-item {position: relative;z-index: 1;}#sk-container-id-1 div.sk-parallel {display: flex;align-items: stretch;justify-content: center;background-color: white;position: relative;}#sk-container-id-1 div.sk-item::before, #sk-container-id-1 div.sk-parallel-item::before {content: \"\";position: absolute;border-left: 1px solid gray;box-sizing: border-box;top: 0;bottom: 0;left: 50%;z-index: -1;}#sk-container-id-1 div.sk-parallel-item {display: flex;flex-direction: column;z-index: 1;position: relative;background-color: white;}#sk-container-id-1 div.sk-parallel-item:first-child::after {align-self: flex-end;width: 50%;}#sk-container-id-1 div.sk-parallel-item:last-child::after {align-self: flex-start;width: 50%;}#sk-container-id-1 div.sk-parallel-item:only-child::after {width: 0;}#sk-container-id-1 div.sk-dashed-wrapped {border: 1px dashed gray;margin: 0 0.4em 0.5em 0.4em;box-sizing: border-box;padding-bottom: 0.4em;background-color: white;}#sk-container-id-1 div.sk-label label {font-family: monospace;font-weight: bold;display: inline-block;line-height: 1.2em;}#sk-container-id-1 div.sk-label-container {text-align: center;}#sk-container-id-1 div.sk-container {/* jupyter's `normalize.less` sets `[hidden] { display: none; }` but bootstrap.min.css set `[hidden] { display: none !important; }` so we also need the `!important` here to be able to override the default hidden behavior on the sphinx rendered scikit-learn.org. See: https://github.com/scikit-learn/scikit-learn/issues/21755 */display: inline-block !important;position: relative;}#sk-container-id-1 div.sk-text-repr-fallback {display: none;}</style><div id=\"sk-container-id-1\" class=\"sk-top-container\"><div class=\"sk-text-repr-fallback\"><pre>MultinomialNB()</pre><b>In a Jupyter environment, please rerun this cell to show the HTML representation or trust the notebook. <br />On GitHub, the HTML representation is unable to render, please try loading this page with nbviewer.org.</b></div><div class=\"sk-container\" hidden><div class=\"sk-item\"><div class=\"sk-estimator sk-toggleable\"><input class=\"sk-toggleable__control sk-hidden--visually\" id=\"sk-estimator-id-1\" type=\"checkbox\" checked><label for=\"sk-estimator-id-1\" class=\"sk-toggleable__label sk-toggleable__label-arrow\">MultinomialNB</label><div class=\"sk-toggleable__content\"><pre>MultinomialNB()</pre></div></div></div></div></div>"
      ],
      "text/plain": [
       "MultinomialNB()"
      ]
     },
     "execution_count": 38,
     "metadata": {},
     "output_type": "execute_result"
    }
   ],
   "source": [
    "nb_clf.fit(X_train_tf, y_train_le)"
   ]
  },
  {
   "cell_type": "code",
   "execution_count": 39,
   "metadata": {},
   "outputs": [],
   "source": [
    "nb_pred = nb_clf.predict(X_test_tf)"
   ]
  },
  {
   "cell_type": "code",
   "execution_count": 40,
   "metadata": {},
   "outputs": [
    {
     "name": "stdout",
     "output_type": "stream",
     "text": [
      "\tClassification Report for Naive Bayes:\n",
      "\n",
      "               precision    recall  f1-score   support\n",
      "\n",
      "    Negative       0.60      0.88      0.71      1769\n",
      "     Neutral       0.92      0.63      0.75      1769\n",
      "    Positive       0.74      0.63      0.68      1769\n",
      "\n",
      "    accuracy                           0.71      5307\n",
      "   macro avg       0.75      0.71      0.71      5307\n",
      "weighted avg       0.75      0.71      0.71      5307\n",
      "\n"
     ]
    }
   ],
   "source": [
    "from sklearn.metrics import accuracy_score, f1_score\n",
    "from sklearn.metrics import classification_report, confusion_matrix\n",
    "\n",
    "print('\\tClassification Report for Naive Bayes:\\n\\n',classification_report(y_test_le,nb_pred, target_names=['Negative', 'Neutral', 'Positive']))"
   ]
  },
  {
   "cell_type": "markdown",
   "metadata": {},
   "source": [
    "# BERT MODEL"
   ]
  },
  {
   "cell_type": "code",
   "execution_count": 41,
   "metadata": {},
   "outputs": [],
   "source": [
    "MAX_LEN = 80"
   ]
  },
  {
   "cell_type": "code",
   "execution_count": 42,
   "metadata": {},
   "outputs": [],
   "source": [
    "def tokenize(data,max_len=MAX_LEN) :\n",
    "    input_ids = []\n",
    "    attention_masks = []\n",
    "    for i in range(len(data)):\n",
    "        encoded = tokenizer.encode_plus(\n",
    "            data[i],\n",
    "            add_special_tokens=True,\n",
    "            max_length=MAX_LEN,\n",
    "            padding='max_length',\n",
    "            return_attention_mask=True\n",
    "        )\n",
    "        input_ids.append(encoded['input_ids'])\n",
    "        attention_masks.append(encoded['attention_mask'])\n",
    "    return np.array(input_ids),np.array(attention_masks)"
   ]
  },
  {
   "cell_type": "code",
   "execution_count": 43,
   "metadata": {},
   "outputs": [],
   "source": [
    "train_input_ids, train_attention_masks = tokenize(X_train, MAX_LEN)\n",
    "val_input_ids, val_attention_masks = tokenize(X_val, MAX_LEN)\n",
    "test_input_ids, test_attention_masks = tokenize(X_test, MAX_LEN)"
   ]
  },
  {
   "cell_type": "code",
   "execution_count": 44,
   "metadata": {},
   "outputs": [
    {
     "name": "stderr",
     "output_type": "stream",
     "text": [
      "Some layers from the model checkpoint at bert-base-uncased were not used when initializing TFBertModel: ['nsp___cls', 'mlm___cls']\n",
      "- This IS expected if you are initializing TFBertModel from the checkpoint of a model trained on another task or with another architecture (e.g. initializing a BertForSequenceClassification model from a BertForPreTraining model).\n",
      "- This IS NOT expected if you are initializing TFBertModel from the checkpoint of a model that you expect to be exactly identical (initializing a BertForSequenceClassification model from a BertForSequenceClassification model).\n",
      "All the layers of TFBertModel were initialized from the model checkpoint at bert-base-uncased.\n",
      "If your task is similar to the task the model of the checkpoint was trained on, you can already use TFBertModel for predictions without further training.\n"
     ]
    }
   ],
   "source": [
    "from transformers import TFBertModel\n",
    "\n",
    "bert_model = TFBertModel.from_pretrained('bert-base-uncased')"
   ]
  },
  {
   "cell_type": "code",
   "execution_count": 45,
   "metadata": {},
   "outputs": [],
   "source": [
    "def create_model(bert_model, max_len=MAX_LEN):\n",
    "    \n",
    "    ##params###\n",
    "    opt = tf.keras.optimizers.Adam(learning_rate=1e-5, decay=1e-7)\n",
    "    loss = tf.keras.losses.CategoricalCrossentropy()\n",
    "    accuracy = tf.keras.metrics.CategoricalAccuracy()\n",
    "\n",
    "\n",
    "    input_ids = tf.keras.Input(shape=(max_len,),dtype='int32')\n",
    "    \n",
    "    attention_masks = tf.keras.Input(shape=(max_len,),dtype='int32')\n",
    "    \n",
    "    embeddings = bert_model([input_ids,attention_masks])[1]\n",
    "    \n",
    "    output = tf.keras.layers.Dense(3, activation=\"softmax\")(embeddings)\n",
    "    \n",
    "    model = tf.keras.models.Model(inputs = [input_ids,attention_masks], outputs = output)\n",
    "    \n",
    "    model.compile(opt, loss=loss, metrics=accuracy)\n",
    "    \n",
    "    \n",
    "    return model"
   ]
  },
  {
   "cell_type": "code",
   "execution_count": 46,
   "metadata": {},
   "outputs": [
    {
     "name": "stdout",
     "output_type": "stream",
     "text": [
      "Model: \"model\"\n",
      "__________________________________________________________________________________________________\n",
      " Layer (type)                   Output Shape         Param #     Connected to                     \n",
      "==================================================================================================\n",
      " input_1 (InputLayer)           [(None, 80)]         0           []                               \n",
      "                                                                                                  \n",
      " input_2 (InputLayer)           [(None, 80)]         0           []                               \n",
      "                                                                                                  \n",
      " tf_bert_model (TFBertModel)    TFBaseModelOutputWi  109482240   ['input_1[0][0]',                \n",
      "                                thPoolingAndCrossAt               'input_2[0][0]']                \n",
      "                                tentions(last_hidde                                               \n",
      "                                n_state=(None, 80,                                                \n",
      "                                768),                                                             \n",
      "                                 pooler_output=(Non                                               \n",
      "                                e, 768),                                                          \n",
      "                                 past_key_values=No                                               \n",
      "                                ne, hidden_states=N                                               \n",
      "                                one, attentions=Non                                               \n",
      "                                e, cross_attentions                                               \n",
      "                                =None)                                                            \n",
      "                                                                                                  \n",
      " dense (Dense)                  (None, 3)            2307        ['tf_bert_model[0][1]']          \n",
      "                                                                                                  \n",
      "==================================================================================================\n",
      "Total params: 109,484,547\n",
      "Trainable params: 109,484,547\n",
      "Non-trainable params: 0\n",
      "__________________________________________________________________________________________________\n"
     ]
    }
   ],
   "source": [
    "model = create_model(bert_model, MAX_LEN)\n",
    "model.summary()"
   ]
  },
  {
   "cell_type": "code",
   "execution_count": 54,
   "metadata": {},
   "outputs": [
    {
     "name": "stdout",
     "output_type": "stream",
     "text": [
      "Epoch 1/5\n",
      "3980/3980 [==============================] - 1101s 277ms/step - loss: 0.5146 - categorical_accuracy: 0.8000 - val_loss: 0.3826 - val_categorical_accuracy: 0.8592\n",
      "Epoch 2/5\n",
      "3980/3980 [==============================] - 1088s 273ms/step - loss: 0.2861 - categorical_accuracy: 0.9014 - val_loss: 0.3256 - val_categorical_accuracy: 0.8851\n",
      "Epoch 3/5\n",
      "3980/3980 [==============================] - 1114s 280ms/step - loss: 0.1465 - categorical_accuracy: 0.9522 - val_loss: 0.3705 - val_categorical_accuracy: 0.8839\n",
      "Epoch 4/5\n",
      "3980/3980 [==============================] - 1138s 286ms/step - loss: 0.0832 - categorical_accuracy: 0.9736 - val_loss: 0.4530 - val_categorical_accuracy: 0.8879\n",
      "Epoch 5/5\n",
      "3980/3980 [==============================] - 1121s 282ms/step - loss: 0.0498 - categorical_accuracy: 0.9844 - val_loss: 0.4915 - val_categorical_accuracy: 0.8826\n"
     ]
    }
   ],
   "source": [
    "history_bert = model.fit([train_input_ids,train_attention_masks], y_train, validation_data=([val_input_ids,val_attention_masks], y_val), epochs=5, batch_size=4)"
   ]
  },
  {
   "cell_type": "code",
   "execution_count": 71,
   "metadata": {},
   "outputs": [
    {
     "data": {
      "text/plain": [
       "{'loss': [0.5145924091339111,\n",
       "  0.28608039021492004,\n",
       "  0.146495059132576,\n",
       "  0.0831947922706604,\n",
       "  0.049781471490859985],\n",
       " 'categorical_accuracy': [0.7999748587608337,\n",
       "  0.9013695120811462,\n",
       "  0.952192485332489,\n",
       "  0.9736147522926331,\n",
       "  0.9844201803207397],\n",
       " 'val_loss': [0.382569819688797,\n",
       "  0.32560259103775024,\n",
       "  0.3705049753189087,\n",
       "  0.45299604535102844,\n",
       "  0.49148133397102356],\n",
       " 'val_categorical_accuracy': [0.8592424988746643,\n",
       "  0.8850574493408203,\n",
       "  0.8839268684387207,\n",
       "  0.8878839015960693,\n",
       "  0.8826078772544861]}"
      ]
     },
     "execution_count": 71,
     "metadata": {},
     "output_type": "execute_result"
    }
   ],
   "source": [
    "history_bert.history"
   ]
  },
  {
   "cell_type": "code",
   "execution_count": 72,
   "metadata": {},
   "outputs": [
    {
     "data": {
      "text/plain": [
       "<matplotlib.legend.Legend at 0x1bcb9bca140>"
      ]
     },
     "execution_count": 72,
     "metadata": {},
     "output_type": "execute_result"
    },
    {
     "name": "stderr",
     "output_type": "stream",
     "text": [
      "c:\\Users\\user\\anaconda3\\envs\\pytorch\\lib\\site-packages\\IPython\\core\\pylabtools.py:151: UserWarning: This figure includes Axes that are not compatible with tight_layout, so results might be incorrect.\n",
      "  fig.canvas.print_figure(bytes_io, **kw)\n"
     ]
    },
    {
     "data": {
      "image/png": "[encoded data removed]",
      "text/plain": [
       "<Figure size 432x288 with 1 Axes>"
      ]
     },
     "metadata": {},
     "output_type": "display_data"
    },
    {
     "data": {
      "image/png": "[encoded data removed]",
      "text/plain": [
       "<Figure size 432x288 with 1 Axes>"
      ]
     },
     "metadata": {},
     "output_type": "display_data"
    }
   ],
   "source": [
    "# plot the results\n",
    "\n",
    "train_acc = history_bert.history['categorical_accuracy']\n",
    "val_acc = history_bert.history['val_categorical_accuracy']\n",
    "train_loss = history_bert.history['loss']\n",
    "val_loss = history_bert.history['val_loss']\n",
    "\n",
    "epochs = range(1, len(train_acc) + 1)\n",
    "\n",
    "plt.plot(epochs, train_acc, 'b*-', label = 'Training accuracy')\n",
    "plt.plot(epochs, val_acc, 'r', label = 'Validation accuracy')\n",
    "plt.title('Training and validation accuracy')\n",
    "plt.legend()\n",
    "\n",
    "plt.figure() # Creates two independent plots\n",
    "\n",
    "plt.plot(epochs, train_loss, 'b*-', label = 'Training loss')\n",
    "plt.plot(epochs, val_loss, 'r', label = 'Validation loss')\n",
    "plt.title('Training and validation loss')\n",
    "plt.legend()"
   ]
  },
  {
   "cell_type": "code",
   "execution_count": 55,
   "metadata": {},
   "outputs": [
    {
     "name": "stdout",
     "output_type": "stream",
     "text": [
      "166/166 [==============================] - 67s 375ms/step\n"
     ]
    }
   ],
   "source": [
    "result_bert = model.predict([test_input_ids,test_attention_masks])"
   ]
  },
  {
   "cell_type": "code",
   "execution_count": 56,
   "metadata": {},
   "outputs": [],
   "source": [
    "y_pred_bert =  np.zeros_like(result_bert)\n",
    "y_pred_bert[np.arange(len(y_pred_bert)), result_bert.argmax(1)] = 1"
   ]
  },
  {
   "cell_type": "code",
   "execution_count": 59,
   "metadata": {},
   "outputs": [
    {
     "name": "stdout",
     "output_type": "stream",
     "text": [
      "\tClassification Report for BERT:\n",
      "\n",
      "               precision    recall  f1-score   support\n",
      "\n",
      "    Negative       0.84      0.89      0.87      1769\n",
      "     Neutral       0.91      0.95      0.93      1769\n",
      "    Positive       0.89      0.79      0.84      1769\n",
      "\n",
      "   micro avg       0.88      0.88      0.88      5307\n",
      "   macro avg       0.88      0.88      0.88      5307\n",
      "weighted avg       0.88      0.88      0.88      5307\n",
      " samples avg       0.88      0.88      0.88      5307\n",
      "\n"
     ]
    }
   ],
   "source": [
    "print('\\tClassification Report for BERT:\\n\\n',classification_report(y_test,y_pred_bert, target_names=['Negative', 'Neutral', 'Positive']))"
   ]
  },
  {
   "cell_type": "code",
   "execution_count": 73,
   "metadata": {},
   "outputs": [
    {
     "name": "stderr",
     "output_type": "stream",
     "text": [
      "C:\\Users\\user\\AppData\\Local\\Temp\\ipykernel_58012\\1787276967.py:4: MatplotlibDeprecationWarning: The seaborn styles shipped by Matplotlib are deprecated since 3.6, as they no longer correspond to the styles shipped by seaborn. However, they will remain available as 'seaborn-v0_8-<style>'. Alternatively, directly use the seaborn API instead.\n",
      "  plt.style.use(\"seaborn-whitegrid\")\n"
     ]
    },
    {
     "data": {
      "text/plain": [
       "<Figure size 432x288 with 0 Axes>"
      ]
     },
     "metadata": {},
     "output_type": "display_data"
    }
   ],
   "source": [
    "#set style for plots\n",
    "sns.set_style(\"whitegrid\")\n",
    "sns.despine()\n",
    "plt.style.use(\"seaborn-whitegrid\")\n",
    "plt.rc(\"figure\", autolayout=True)\n",
    "plt.rc(\"axes\", labelweight=\"bold\", labelsize=\"large\", titleweight=\"bold\", titlepad=10)"
   ]
  },
  {
   "cell_type": "code",
   "execution_count": 69,
   "metadata": {},
   "outputs": [
    {
     "name": "stderr",
     "output_type": "stream",
     "text": [
      "c:\\Users\\user\\anaconda3\\envs\\pytorch\\lib\\site-packages\\IPython\\core\\pylabtools.py:151: UserWarning: This figure includes Axes that are not compatible with tight_layout, so results might be incorrect.\n",
      "  fig.canvas.print_figure(bytes_io, **kw)\n"
     ]
    },
    {
     "data": {
      "image/png": "[encoded data removed]",
      "text/plain": [
       "<Figure size 648x396 with 2 Axes>"
      ]
     },
     "metadata": {},
     "output_type": "display_data"
    }
   ],
   "source": [
    "\n",
    "fig, ax = plt.subplots(1,2,figsize=(9,5.5))\n",
    "\n",
    "labels = ['Negative', 'Neutral', 'Positive']\n",
    "plt.suptitle('Sentiment Analysis Comparison\\n Confusion Matrix', fontsize=20)\n",
    "\n",
    "\n",
    "sns.heatmap(confusion_matrix(y_test.argmax(1),nb_pred), annot=True, cmap=\"Blues\", fmt='g', cbar=False, ax=ax[0], annot_kws={\"size\":25})\n",
    "\n",
    "ax[0].set_title('Naive Bayes Classifier', fontsize=20)\n",
    "ax[0].set_yticklabels(labels, fontsize=17)\n",
    "ax[0].set_xticklabels(labels, fontsize=17)\n",
    "ax[0].set_ylabel('Test', fontsize=20)\n",
    "ax[0].set_xlabel('Predicted', fontsize=20)\n",
    "\n",
    "sns.heatmap(confusion_matrix(y_test.argmax(1),y_pred_bert.argmax(1)), annot=True, cmap=\"Blues\", fmt='g', cbar=False, ax=ax[1], annot_kws={\"size\":25})\n",
    "ax[1].set_title('BERT Classifier', fontsize=20)\n",
    "ax[1].set_yticklabels(labels, fontsize=17)\n",
    "ax[1].set_xticklabels(labels, fontsize=17)\n",
    "ax[1].set_ylabel('Test', fontsize=20)\n",
    "ax[1].set_xlabel('Predicted', fontsize=20)\n",
    "\n",
    "\n",
    "plt.show()"
   ]
  },
  {
   "cell_type": "code",
   "execution_count": null,
   "metadata": {},
   "outputs": [],
   "source": []
  }
 ],
 "metadata": {
  "kernelspec": {
   "display_name": "Python 3.10.4 ('pytorch')",
   "language": "python",
   "name": "python3"
  },
  "language_info": {
   "codemirror_mode": {
    "name": "ipython",
    "version": 3
   },
   "file_extension": ".py",
   "mimetype": "text/x-python",
   "name": "python",
   "nbconvert_exporter": "python",
   "pygments_lexer": "ipython3",
   "version": "3.10.4"
  },
  "orig_nbformat": 4,
  "vscode": {
   "interpreter": {
    "hash": "61d7d72412218704c5ba1799d65c7a83b08e24a9ca7847de9a479f6f426633e7"
   }
  }
 },
 "nbformat": 4,
 "nbformat_minor": 2
}
